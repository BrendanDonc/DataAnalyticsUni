{
 "cells": [
  {
   "cell_type": "code",
   "execution_count": 1,
   "metadata": {},
   "outputs": [],
   "source": [
    "import numpy as np\n",
    "import pandas as pd"
   ]
  },
  {
   "cell_type": "code",
   "execution_count": 2,
   "metadata": {},
   "outputs": [],
   "source": [
    "df = pd.read_csv('STUDENT.csv')"
   ]
  },
  {
   "cell_type": "code",
   "execution_count": 3,
   "metadata": {},
   "outputs": [
    {
     "name": "stdout",
     "output_type": "stream",
     "text": [
      "<class 'pandas.core.frame.DataFrame'>\n",
      "RangeIndex: 1044 entries, 0 to 1043\n",
      "Data columns (total 35 columns):\n",
      "id             1044 non-null int64\n",
      "InitialName    1044 non-null object\n",
      "school         992 non-null object\n",
      "sex            1044 non-null object\n",
      "age            971 non-null float64\n",
      "address        1044 non-null object\n",
      "famsize        1044 non-null object\n",
      "Pstatus        1044 non-null object\n",
      "Medu           1044 non-null int64\n",
      "Fedu           1044 non-null int64\n",
      "Mjob           1044 non-null object\n",
      "Fjob           1044 non-null object\n",
      "reason         428 non-null object\n",
      "guardian       1044 non-null object\n",
      "traveltime     1044 non-null int64\n",
      "studytime      1044 non-null int64\n",
      "failures       1044 non-null int64\n",
      "schoolsup      1044 non-null object\n",
      "famsup         1044 non-null object\n",
      "paid           1044 non-null object\n",
      "activities     1044 non-null object\n",
      "nursery        1044 non-null object\n",
      "higher         1044 non-null object\n",
      "internet       1044 non-null object\n",
      "romantic       1044 non-null object\n",
      "famrel         1044 non-null int64\n",
      "freetime       1044 non-null int64\n",
      "goout          1044 non-null int64\n",
      "Dalc           1044 non-null int64\n",
      "Walc           1044 non-null int64\n",
      "health         1044 non-null int64\n",
      "absences       1044 non-null int64\n",
      "G1             1013 non-null float64\n",
      "G2             1013 non-null float64\n",
      "G3             1044 non-null object\n",
      "dtypes: float64(3), int64(13), object(19)\n",
      "memory usage: 285.5+ KB\n",
      "None\n"
     ]
    }
   ],
   "source": [
    "print(df.info())"
   ]
  },
  {
   "cell_type": "code",
   "execution_count": 4,
   "metadata": {},
   "outputs": [
    {
     "data": {
      "text/plain": [
       "DCHS    735\n",
       "THS     257\n",
       "Name: school, dtype: int64"
      ]
     },
     "execution_count": 4,
     "metadata": {},
     "output_type": "execute_result"
    }
   ],
   "source": [
    "df['school'].value_counts()"
   ]
  },
  {
   "cell_type": "code",
   "execution_count": 5,
   "metadata": {},
   "outputs": [],
   "source": [
    "def preprocess():\n",
    "    import pandas as pd\n",
    "    #Preprocess data\n",
    "    df_raw = pd.read_csv('STUDENT.csv', index_col=0)\n",
    "    df = df_raw.drop(['InitialName', 'guardian'], axis=1)\n",
    "    \n",
    "    #Map binaries\n",
    "    df['address'] = df['address'].map({ 'U':0, 'R':1 })\n",
    "    df['sex'] = df['sex'].map({ 'M':0, 'F':1 })\n",
    "    df['famsize'] = df['famsize'].map({ 'LE3':0, 'GT3':1 })\n",
    "    df['Pstatus'] = df['Pstatus'].map({ 'A':0, 'T':1 })\n",
    "    df['schoolsup'] = df['schoolsup'].map({ 'no':0, 'yes':1 })\n",
    "    df['famsup'] = df['famsup'].map({ 'no':0, 'yes':1 })\n",
    "    df['paid'] = df['paid'].map({ 'no':0, 'yes':1 })\n",
    "    df['activities'] = df['activities'].map({ 'no':0, 'yes':1 })\n",
    "    df['nursery'] = df['nursery'].map({ 'no':0, 'yes':1 })\n",
    "    df['higher'] = df['higher'].map({ 'no':0, 'yes':1 })\n",
    "    df['internet'] = df['internet'].map({ 'no':0, 'yes':1 })\n",
    "    df['romantic'] = df['romantic'].map({ 'no':0, 'yes':1 })\n",
    "    df['G3'] = df['G3'].map({ 'FAIL': 0, 'PASS': 1 })\n",
    "\n",
    "    #Fill via median for age\n",
    "    df['age'].fillna(df['age'].median(), inplace=True)\n",
    "    \n",
    "    #Fill via 'none' since hot encode will flag\n",
    "    df['school'].fillna('none', inplace=True)\n",
    "    df['reason'].fillna('none', inplace=True)\n",
    "\n",
    "    #Drop g1 & 2 empty rows\n",
    "    cols_miss_drop =['G1', 'G2']\n",
    "    mask = pd.isnull(df['G1'])\n",
    "    for col in cols_miss_drop:\n",
    "     mask = mask | pd.isnull(df[col])\n",
    "    df = df[~mask]\n",
    "\n",
    "    #Hot encode\n",
    "    df = pd.get_dummies(df)\n",
    "    return df"
   ]
  },
  {
   "cell_type": "code",
   "execution_count": 6,
   "metadata": {
    "scrolled": false
   },
   "outputs": [
    {
     "name": "stdout",
     "output_type": "stream",
     "text": [
      "<class 'pandas.core.frame.DataFrame'>\n",
      "Int64Index: 982 entries, 0 to 1043\n",
      "Data columns (total 46 columns):\n",
      "sex                  982 non-null int64\n",
      "age                  982 non-null float64\n",
      "address              982 non-null int64\n",
      "famsize              982 non-null int64\n",
      "Pstatus              982 non-null int64\n",
      "Medu                 982 non-null int64\n",
      "Fedu                 982 non-null int64\n",
      "traveltime           982 non-null int64\n",
      "studytime            982 non-null int64\n",
      "failures             982 non-null int64\n",
      "schoolsup            982 non-null int64\n",
      "famsup               982 non-null int64\n",
      "paid                 982 non-null int64\n",
      "activities           982 non-null int64\n",
      "nursery              982 non-null int64\n",
      "higher               982 non-null int64\n",
      "internet             982 non-null int64\n",
      "romantic             982 non-null int64\n",
      "famrel               982 non-null int64\n",
      "freetime             982 non-null int64\n",
      "goout                982 non-null int64\n",
      "Dalc                 982 non-null int64\n",
      "Walc                 982 non-null int64\n",
      "health               982 non-null int64\n",
      "absences             982 non-null int64\n",
      "G1                   982 non-null float64\n",
      "G2                   982 non-null float64\n",
      "G3                   982 non-null int64\n",
      "school_DCHS          982 non-null uint8\n",
      "school_THS           982 non-null uint8\n",
      "school_none          982 non-null uint8\n",
      "Mjob_at_home         982 non-null uint8\n",
      "Mjob_health          982 non-null uint8\n",
      "Mjob_other           982 non-null uint8\n",
      "Mjob_services        982 non-null uint8\n",
      "Mjob_teacher         982 non-null uint8\n",
      "Fjob_at_home         982 non-null uint8\n",
      "Fjob_health          982 non-null uint8\n",
      "Fjob_other           982 non-null uint8\n",
      "Fjob_services        982 non-null uint8\n",
      "Fjob_teacher         982 non-null uint8\n",
      "reason_course        982 non-null uint8\n",
      "reason_home          982 non-null uint8\n",
      "reason_none          982 non-null uint8\n",
      "reason_other         982 non-null uint8\n",
      "reason_reputation    982 non-null uint8\n",
      "dtypes: float64(3), int64(25), uint8(18)\n",
      "memory usage: 239.7 KB\n",
      "None\n"
     ]
    }
   ],
   "source": [
    "df = preprocess()\n",
    "print(df.info())"
   ]
  },
  {
   "cell_type": "code",
   "execution_count": 7,
   "metadata": {},
   "outputs": [
    {
     "data": {
      "text/plain": [
       "0    714\n",
       "1    268\n",
       "Name: address, dtype: int64"
      ]
     },
     "execution_count": 7,
     "metadata": {},
     "output_type": "execute_result"
    }
   ],
   "source": [
    "df['address'].value_counts()"
   ]
  },
  {
   "cell_type": "code",
   "execution_count": 8,
   "metadata": {},
   "outputs": [
    {
     "data": {
      "text/plain": [
       "0    932\n",
       "1     50\n",
       "Name: school_none, dtype: int64"
      ]
     },
     "execution_count": 8,
     "metadata": {},
     "output_type": "execute_result"
    }
   ],
   "source": [
    "df['school_none'].value_counts()"
   ]
  },
  {
   "cell_type": "code",
   "execution_count": null,
   "metadata": {},
   "outputs": [],
   "source": []
  }
 ],
 "metadata": {
  "kernelspec": {
   "display_name": "Python 3",
   "language": "python",
   "name": "python3"
  },
  "language_info": {
   "codemirror_mode": {
    "name": "ipython",
    "version": 3
   },
   "file_extension": ".py",
   "mimetype": "text/x-python",
   "name": "python",
   "nbconvert_exporter": "python",
   "pygments_lexer": "ipython3",
   "version": "3.6.5"
  }
 },
 "nbformat": 4,
 "nbformat_minor": 2
}
