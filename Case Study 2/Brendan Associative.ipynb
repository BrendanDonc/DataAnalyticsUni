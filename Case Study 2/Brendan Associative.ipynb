{
 "cells": [
  {
   "cell_type": "code",
   "execution_count": 4,
   "metadata": {},
   "outputs": [
    {
     "name": "stdout",
     "output_type": "stream",
     "text": [
      "<class 'pandas.core.frame.DataFrame'>\n",
      "RangeIndex: 459258 entries, 0 to 459257\n",
      "Data columns (total 5 columns):\n",
      "Location            459258 non-null int64\n",
      "Transaction_Id      459258 non-null int64\n",
      "Transaction_Date    459258 non-null object\n",
      "Product_Name        459258 non-null object\n",
      "Quantity            459258 non-null int64\n",
      "dtypes: int64(3), object(2)\n",
      "memory usage: 17.5+ MB\n"
     ]
    }
   ],
   "source": [
    "import pandas as pd\n",
    "df = pd.read_csv('datasets/POS_TRANSACTIONS_2018 .csv')\n",
    "\n",
    "df.info()"
   ]
  },
  {
   "cell_type": "code",
   "execution_count": 5,
   "metadata": {},
   "outputs": [
    {
     "name": "stdout",
     "output_type": "stream",
     "text": [
      "----Location----\n",
      "7     46570\n",
      "3     46381\n",
      "6     46299\n",
      "2     46100\n",
      "5     46032\n",
      "8     45993\n",
      "1     45896\n",
      "10    45516\n",
      "4     45354\n",
      "9     45117\n",
      "Name: Location, dtype: int64\n",
      "-------Transaction_Id-------\n",
      "205484     170\n",
      "79610      164\n",
      "362087     148\n",
      "816536     135\n",
      "1211036    126\n",
      "34322      123\n",
      "450677     117\n",
      "75389      107\n",
      "1143932     95\n",
      "205490      94\n",
      "824726      86\n",
      "1014407     83\n",
      "873266      81\n",
      "297173      80\n",
      "1068674     75\n",
      "258056      75\n",
      "967577      74\n",
      "427835      73\n",
      "743966      69\n",
      "205496      69\n",
      "712436      66\n",
      "1140599     63\n",
      "1131095     62\n",
      "513455      61\n",
      "246527      60\n",
      "79655       60\n",
      "1118885     59\n",
      "194294      59\n",
      "106274      59\n",
      "1172354     58\n",
      "          ... \n",
      "1095557      1\n",
      "34691        1\n",
      "561026       1\n",
      "40832        1\n",
      "999284       1\n",
      "686045       1\n",
      "1038185      1\n",
      "495458       1\n",
      "935771       1\n",
      "933716       1\n",
      "919379       1\n",
      "925520       1\n",
      "585614       1\n",
      "1056656      1\n",
      "1058711      1\n",
      "1152929      1\n",
      "114596       1\n",
      "642986       1\n",
      "116651       1\n",
      "1177517      1\n",
      "651182       1\n",
      "69554        1\n",
      "77750        1\n",
      "620477       1\n",
      "692162       1\n",
      "188360       1\n",
      "182219       1\n",
      "1189847      1\n",
      "1204184      1\n",
      "698837       1\n",
      "Name: Transaction_Id, Length: 200000, dtype: int64\n",
      "----Transaction_Date----\n",
      "12/28/2017    97866\n",
      "12/26/2017    87553\n",
      "12/27/2017    85837\n",
      "12/24/2017    79778\n",
      "12/25/2017    57501\n",
      "12/29/2017    42061\n",
      "12/23/2017     8662\n",
      "Name: Transaction_Date, dtype: int64\n",
      "----Product_Name----\n",
      "Sketching Markers      73951\n",
      "Flash Card             63805\n",
      "Exercise book          62375\n",
      "DVD media              40292\n",
      "Lanyards               38123\n",
      "Wristbands             36032\n",
      "Laminator              25142\n",
      "Drink bottle           24554\n",
      "Puzzle                 17227\n",
      "Power Bank             16386\n",
      "Digital Clock          15774\n",
      "Soap                   14415\n",
      "Certificate Frame      12452\n",
      "Mini Stationery Set     8833\n",
      "Photo Frame             5702\n",
      "Watercolor Set          2605\n",
      "USB Flash Drive         1590\n",
      "Name: Product_Name, dtype: int64\n",
      "----Quantity----\n",
      "1    459258\n",
      "Name: Quantity, dtype: int64\n"
     ]
    }
   ],
   "source": [
    "print('----Location----')\n",
    "print(df['Location'].value_counts())\n",
    "print('-------Transaction_Id-------')\n",
    "print(df['Transaction_Id'].value_counts())\n",
    "print('----Transaction_Date----')\n",
    "print(df['Transaction_Date'].value_counts())\n",
    "print('----Product_Name----')\n",
    "print(df['Product_Name'].value_counts())\n",
    "print('----Quantity----')\n",
    "print(df['Quantity'].value_counts())"
   ]
  },
  {
   "cell_type": "code",
   "execution_count": 14,
   "metadata": {},
   "outputs": [
    {
     "name": "stdout",
     "output_type": "stream",
     "text": [
      "Transaction_Id  Transaction_Date\n",
      "12359           12/23/2017                                            [Exercise book]\n",
      "12362           12/23/2017                 [Mini Stationery Set, Mini Stationery Set]\n",
      "12365           12/23/2017                                               [Flash Card]\n",
      "12371           12/23/2017                                             [Drink bottle]\n",
      "12380           12/23/2017                                                [DVD media]\n",
      "12383           12/23/2017                 [Mini Stationery Set, Mini Stationery Set]\n",
      "12386           12/23/2017                 [Mini Stationery Set, Mini Stationery Set]\n",
      "12392           12/23/2017                     [Certificate Frame, Sketching Markers]\n",
      "12401           12/23/2017          [Exercise book, Exercise book, Lanyards, Sketc...\n",
      "12404           12/23/2017                                            [Exercise book]\n",
      "Name: Product_Name, dtype: object\n"
     ]
    }
   ],
   "source": [
    "transactionsTest = df.groupby(['Transaction_Id', 'Transaction_Date'])['Product_Name'].apply(list)\n",
    "print(transactionsTest.head(10))"
   ]
  },
  {
   "cell_type": "code",
   "execution_count": 15,
   "metadata": {},
   "outputs": [
    {
     "name": "stdout",
     "output_type": "stream",
     "text": [
      "Transaction_Id\n",
      "12359                                      [Exercise book]\n",
      "12362           [Mini Stationery Set, Mini Stationery Set]\n",
      "12365                                         [Flash Card]\n",
      "12371                                       [Drink bottle]\n",
      "12380                                          [DVD media]\n",
      "12383           [Mini Stationery Set, Mini Stationery Set]\n",
      "12386           [Mini Stationery Set, Mini Stationery Set]\n",
      "12392               [Certificate Frame, Sketching Markers]\n",
      "12401    [Exercise book, Exercise book, Lanyards, Sketc...\n",
      "12404                                      [Exercise book]\n",
      "Name: Product_Name, dtype: object\n"
     ]
    }
   ],
   "source": [
    "transactions = df.groupby(['Transaction_Id'])['Product_Name'].apply(list)\n",
    "print(transactions.head(10))"
   ]
  },
  {
   "cell_type": "code",
   "execution_count": 16,
   "metadata": {},
   "outputs": [
    {
     "name": "stdout",
     "output_type": "stream",
     "text": [
      "[RelationRecord(items=frozenset({'Certificate Frame'}), support=0.0338, ordered_statistics=[OrderedStatistic(items_base=frozenset(), items_add=frozenset({'Certificate Frame'}), confidence=0.0338, lift=1.0)]), RelationRecord(items=frozenset({'DVD media'}), support=0.146885, ordered_statistics=[OrderedStatistic(items_base=frozenset(), items_add=frozenset({'DVD media'}), confidence=0.146885, lift=1.0)]), RelationRecord(items=frozenset({'Digital Clock'}), support=0.06735, ordered_statistics=[OrderedStatistic(items_base=frozenset(), items_add=frozenset({'Digital Clock'}), confidence=0.06735, lift=1.0)]), RelationRecord(items=frozenset({'Drink bottle'}), support=0.054645, ordered_statistics=[OrderedStatistic(items_base=frozenset(), items_add=frozenset({'Drink bottle'}), confidence=0.054645, lift=1.0)]), RelationRecord(items=frozenset({'Exercise book'}), support=0.171005, ordered_statistics=[OrderedStatistic(items_base=frozenset(), items_add=frozenset({'Exercise book'}), confidence=0.171005, lift=1.0)])]\n"
     ]
    }
   ],
   "source": [
    "from apyori import apriori\n",
    "# type cast the transactions from pandas into normal list format and run apriori\n",
    "transaction_list = list(transactions)\n",
    "results = list(apriori(transaction_list, min_support=0.02))\n",
    "# print first 5 rules\n",
    "print(results[:5])"
   ]
  },
  {
   "cell_type": "code",
   "execution_count": null,
   "metadata": {},
   "outputs": [],
   "source": []
  }
 ],
 "metadata": {
  "kernelspec": {
   "display_name": "Python 3",
   "language": "python",
   "name": "python3"
  },
  "language_info": {
   "codemirror_mode": {
    "name": "ipython",
    "version": 3
   },
   "file_extension": ".py",
   "mimetype": "text/x-python",
   "name": "python",
   "nbconvert_exporter": "python",
   "pygments_lexer": "ipython3",
   "version": "3.6.5"
  }
 },
 "nbformat": 4,
 "nbformat_minor": 2
}
