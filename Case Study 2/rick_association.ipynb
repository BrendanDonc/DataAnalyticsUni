{
 "cells": [
  {
   "cell_type": "code",
   "execution_count": 1,
   "metadata": {},
   "outputs": [],
   "source": [
    "import warnings\n",
    "warnings.filterwarnings(\"ignore\")"
   ]
  },
  {
   "cell_type": "code",
   "execution_count": 2,
   "metadata": {},
   "outputs": [
    {
     "name": "stdout",
     "output_type": "stream",
     "text": [
      "<class 'pandas.core.frame.DataFrame'>\n",
      "Int64Index: 459258 entries, 2 to 3\n",
      "Data columns (total 4 columns):\n",
      "Transaction_Id      459258 non-null int64\n",
      "Transaction_Date    459258 non-null object\n",
      "Product_Name        459258 non-null object\n",
      "Quantity            459258 non-null int64\n",
      "dtypes: int64(2), object(2)\n",
      "memory usage: 17.5+ MB\n"
     ]
    }
   ],
   "source": [
    "import pandas as pd\n",
    "import numpy as np\n",
    "\n",
    "df = pd.read_csv('datasets/POS_TRANSACTIONS_2018 .csv', index_col=0)\n",
    "\n",
    "df.info()"
   ]
  },
  {
   "cell_type": "code",
   "execution_count": 3,
   "metadata": {},
   "outputs": [],
   "source": [
    "# Task 4 : Association Mining"
   ]
  },
  {
   "cell_type": "code",
   "execution_count": 73,
   "metadata": {},
   "outputs": [
    {
     "name": "stdout",
     "output_type": "stream",
     "text": [
      "----Transaction_Id----\n",
      "count    4.592580e+05\n",
      "mean     6.179884e+05\n",
      "std      3.511578e+05\n",
      "min      1.235900e+04\n",
      "25%      3.124370e+05\n",
      "50%      6.168260e+05\n",
      "75%      9.254420e+05\n",
      "max      1.221866e+06\n",
      "Name: Transaction_Id, dtype: float64\n",
      "-------Transaction_Date-------\n",
      "count         459258\n",
      "unique             7\n",
      "top       12/28/2017\n",
      "freq           97866\n",
      "Name: Transaction_Date, dtype: object\n",
      "----Product_Name----\n",
      "count                459258\n",
      "unique                   17\n",
      "top       Sketching Markers\n",
      "freq                  73951\n",
      "Name: Product_Name, dtype: object\n",
      "----Quantity----\n",
      "count    459258.0\n",
      "mean          1.0\n",
      "std           0.0\n",
      "min           1.0\n",
      "25%           1.0\n",
      "50%           1.0\n",
      "75%           1.0\n",
      "max           1.0\n",
      "Name: Quantity, dtype: float64\n"
     ]
    }
   ],
   "source": [
    "## Preprocessing\n",
    "## Identify significant measurements/values\n",
    "print('----Transaction_Id----')\n",
    "print(df['Transaction_Id'].describe())\n",
    "print('-------Transaction_Date-------')\n",
    "print(df['Transaction_Date'].describe())\n",
    "print('----Product_Name----')\n",
    "print(df['Product_Name'].describe())\n",
    "print('----Quantity----')\n",
    "print(df['Quantity'].describe())"
   ]
  },
  {
   "cell_type": "code",
   "execution_count": 5,
   "metadata": {},
   "outputs": [
    {
     "name": "stdout",
     "output_type": "stream",
     "text": [
      "Transaction_Id\n",
      "12359                                      [Exercise book]\n",
      "12362           [Mini Stationery Set, Mini Stationery Set]\n",
      "12365                                         [Flash Card]\n",
      "12371                                       [Drink bottle]\n",
      "12380                                          [DVD media]\n",
      "12383           [Mini Stationery Set, Mini Stationery Set]\n",
      "12386           [Mini Stationery Set, Mini Stationery Set]\n",
      "12392               [Certificate Frame, Sketching Markers]\n",
      "12401    [Exercise book, Exercise book, Lanyards, Sketc...\n",
      "12404                                      [Exercise book]\n",
      "Name: Product_Name, dtype: object\n"
     ]
    }
   ],
   "source": [
    "transactions = df.groupby(['Transaction_Id'])['Product_Name'].apply(list)\n",
    "print(transactions.head(10))"
   ]
  },
  {
   "cell_type": "code",
   "execution_count": 61,
   "metadata": {},
   "outputs": [
    {
     "name": "stdout",
     "output_type": "stream",
     "text": [
      "[RelationRecord(items=frozenset({'DVD media'}), support=0.146885, ordered_statistics=[OrderedStatistic(items_base=frozenset(), items_add=frozenset({'DVD media'}), confidence=0.146885, lift=1.0)]), RelationRecord(items=frozenset({'Exercise book'}), support=0.171005, ordered_statistics=[OrderedStatistic(items_base=frozenset(), items_add=frozenset({'Exercise book'}), confidence=0.171005, lift=1.0)]), RelationRecord(items=frozenset({'Flash Card'}), support=0.160425, ordered_statistics=[OrderedStatistic(items_base=frozenset(), items_add=frozenset({'Flash Card'}), confidence=0.160425, lift=1.0)]), RelationRecord(items=frozenset({'Lanyards'}), support=0.134925, ordered_statistics=[OrderedStatistic(items_base=frozenset(), items_add=frozenset({'Lanyards'}), confidence=0.134925, lift=1.0)]), RelationRecord(items=frozenset({'Sketching Markers'}), support=0.241305, ordered_statistics=[OrderedStatistic(items_base=frozenset(), items_add=frozenset({'Sketching Markers'}), confidence=0.241305, lift=1.0)])]\n"
     ]
    }
   ],
   "source": [
    "from apyori import apriori\n",
    "# type cast the transactions from pandas into normal list format and run apriori\n",
    "transaction_list = list(transactions)\n",
    "results = list(apriori(transaction_list, min_support=0.03, min_confidence=0.1))\n",
    "# print first 5 rules\n",
    "print(results[:5])"
   ]
  },
  {
   "cell_type": "code",
   "execution_count": 67,
   "metadata": {},
   "outputs": [],
   "source": [
    "def convert_apriori_results_to_pandas_df(results):\n",
    "    rules = []\n",
    "\n",
    "    for rule_set in results:\n",
    "        for rule in rule_set.ordered_statistics:\n",
    "            # items_base = left side of rules, items_add = right side\n",
    "            # support, confidence and lift for respective rules\n",
    "            rules.append([','.join(rule.items_base), ','.join(rule.items_add), rule_set.support, rule.confidence, rule.lift])\n",
    "#             if len(rule.items_base) > 0:\n",
    "#                 for item in rule.items_base:\n",
    "#                     if item == 'Exercise book':\n",
    "#                         rules.append([','.join(rule.items_base), ','.join(rule.items_add), rule_set.support, rule.confidence, rule.lift])\n",
    "#                     break\n",
    "            \n",
    "    # typecast it to pandas df\n",
    "    return pd.DataFrame(rules, columns=['Left_side', 'Right_side', 'Support', 'Confidence', 'Lift'])\n",
    "\n",
    "result_df = convert_apriori_results_to_pandas_df(results)"
   ]
  },
  {
   "cell_type": "code",
   "execution_count": 81,
   "metadata": {
    "scrolled": false
   },
   "outputs": [
    {
     "name": "stdout",
     "output_type": "stream",
     "text": [
      "v------------------------------Lift------------------------------------v\n",
      "            Left_side         Right_side   Support  Confidence      Lift\n",
      "6           DVD media      Exercise book  0.043660    0.297239  1.738191\n",
      "7       Exercise book          DVD media  0.043660    0.255314  1.738191\n",
      "12      Exercise book         Flash Card  0.039780    0.232625  1.450053\n",
      "13         Flash Card      Exercise book  0.039780    0.247966  1.450053\n",
      "14      Exercise book           Lanyards  0.033015    0.193065  1.430903\n",
      "15           Lanyards      Exercise book  0.033015    0.244691  1.430903\n",
      "9          Flash Card          DVD media  0.032080    0.199969  1.361397\n",
      "8           DVD media         Flash Card  0.032080    0.218402  1.361397\n",
      "10          DVD media  Sketching Markers  0.036335    0.247370  1.025136\n",
      "11  Sketching Markers          DVD media  0.036335    0.150577  1.025136\n",
      "3                               Lanyards  0.134925    0.134925  1.000000\n",
      "4                      Sketching Markers  0.241305    0.241305  1.000000\n",
      "1                          Exercise book  0.171005    0.171005  1.000000\n",
      "2                             Flash Card  0.160425    0.160425  1.000000\n",
      "0                              DVD media  0.146885    0.146885  1.000000\n",
      "5                             Wristbands  0.143575    0.143575  1.000000\n",
      "16      Exercise book  Sketching Markers  0.040535    0.237040  0.982325\n",
      "17  Sketching Markers      Exercise book  0.040535    0.167982  0.982325\n",
      "20           Lanyards  Sketching Markers  0.031630    0.234427  0.971495\n",
      "21  Sketching Markers           Lanyards  0.031630    0.131079  0.971495\n",
      "v----------------------------Confidence--------------------------------v\n",
      "            Left_side         Right_side   Support  Confidence      Lift\n",
      "6           DVD media      Exercise book  0.043660    0.297239  1.738191\n",
      "7       Exercise book          DVD media  0.043660    0.255314  1.738191\n",
      "13         Flash Card      Exercise book  0.039780    0.247966  1.450053\n",
      "10          DVD media  Sketching Markers  0.036335    0.247370  1.025136\n",
      "15           Lanyards      Exercise book  0.033015    0.244691  1.430903\n",
      "4                      Sketching Markers  0.241305    0.241305  1.000000\n",
      "16      Exercise book  Sketching Markers  0.040535    0.237040  0.982325\n",
      "20           Lanyards  Sketching Markers  0.031630    0.234427  0.971495\n",
      "12      Exercise book         Flash Card  0.039780    0.232625  1.450053\n",
      "8           DVD media         Flash Card  0.032080    0.218402  1.361397\n",
      "9          Flash Card          DVD media  0.032080    0.199969  1.361397\n",
      "18         Flash Card  Sketching Markers  0.031665    0.197382  0.817977\n",
      "14      Exercise book           Lanyards  0.033015    0.193065  1.430903\n",
      "1                          Exercise book  0.171005    0.171005  1.000000\n",
      "17  Sketching Markers      Exercise book  0.040535    0.167982  0.982325\n",
      "2                             Flash Card  0.160425    0.160425  1.000000\n",
      "11  Sketching Markers          DVD media  0.036335    0.150577  1.025136\n",
      "0                              DVD media  0.146885    0.146885  1.000000\n",
      "5                             Wristbands  0.143575    0.143575  1.000000\n",
      "3                               Lanyards  0.134925    0.134925  1.000000\n"
     ]
    }
   ],
   "source": [
    "# sort all acquired rules descending by lift\n",
    "print('v------------------------------Lift------------------------------------v')\n",
    "result_df = result_df.sort_values(by='Lift', ascending=False)\n",
    "print(result_df.head(20))\n",
    "print('v----------------------------Confidence--------------------------------v')\n",
    "result_df = result_df.sort_values(by='Confidence', ascending=False)\n",
    "print(result_df.head(20))"
   ]
  },
  {
   "cell_type": "code",
   "execution_count": 66,
   "metadata": {},
   "outputs": [
    {
     "name": "stdout",
     "output_type": "stream",
     "text": [
      "        Left_side         Right_side   Support  Confidence      Lift\n",
      "7   Exercise book          DVD media  0.043660    0.255314  1.738191\n",
      "12  Exercise book         Flash Card  0.039780    0.232625  1.450053\n",
      "14  Exercise book           Lanyards  0.033015    0.193065  1.430903\n",
      "16  Exercise book  Sketching Markers  0.040535    0.237040  0.982325\n"
     ]
    }
   ],
   "source": [
    "new_df = result_df[result_df['Left_side'] == 'Exercise book']\n",
    "print(new_df.head(20))"
   ]
  },
  {
   "cell_type": "code",
   "execution_count": null,
   "metadata": {},
   "outputs": [],
   "source": []
  }
 ],
 "metadata": {
  "kernelspec": {
   "display_name": "Python 3",
   "language": "python",
   "name": "python3"
  },
  "language_info": {
   "codemirror_mode": {
    "name": "ipython",
    "version": 3
   },
   "file_extension": ".py",
   "mimetype": "text/x-python",
   "name": "python",
   "nbconvert_exporter": "python",
   "pygments_lexer": "ipython3",
   "version": "3.6.5"
  }
 },
 "nbformat": 4,
 "nbformat_minor": 2
}
