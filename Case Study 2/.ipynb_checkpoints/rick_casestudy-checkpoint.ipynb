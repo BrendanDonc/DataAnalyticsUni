{
 "cells": [
  {
   "cell_type": "code",
   "execution_count": 6,
   "metadata": {},
   "outputs": [
    {
     "name": "stdout",
     "output_type": "stream",
     "text": [
      "<class 'pandas.core.frame.DataFrame'>\n",
      "RangeIndex: 400 entries, 0 to 399\n",
      "Data columns (total 5 columns):\n",
      "StoreCode          400 non-null int64\n",
      "AnnualSales        385 non-null float64\n",
      "Sales              385 non-null float64\n",
      "SFloorSize         400 non-null int64\n",
      "TotalInvestment    385 non-null float64\n",
      "dtypes: float64(3), int64(2)\n",
      "memory usage: 15.7 KB\n"
     ]
    }
   ],
   "source": [
    "import pandas as pd\n",
    "df = pd.read_csv('datasets/MENS_CLOTHING_SALES_2018 .csv')\n",
    "\n",
    "df.info()"
   ]
  },
  {
   "cell_type": "code",
   "execution_count": 11,
   "metadata": {},
   "outputs": [
    {
     "name": "stdout",
     "output_type": "stream",
     "text": [
      "count      385.000000\n",
      "mean      6353.494951\n",
      "std       3770.794382\n",
      "min        300.000000\n",
      "25%       3904.200000\n",
      "50%       5333.333000\n",
      "75%       7822.003000\n",
      "max      27000.000000\n",
      "Name: Sales, dtype: float64\n",
      "5000.000     7\n",
      "4884.085     6\n",
      "3764.163     5\n",
      "8000.000     5\n",
      "4958.764     5\n",
      "4953.400     5\n",
      "8333.333     4\n",
      "6191.750     4\n",
      "4503.091     3\n",
      "3305.843     3\n",
      "3904.200     3\n",
      "5018.883     3\n",
      "7713.633     3\n",
      "3538.143     3\n",
      "12210.210    3\n",
      "6942.270     3\n",
      "3907.268     3\n",
      "6022.660     3\n",
      "6000.000     3\n",
      "9768.170     3\n",
      "6311.155     2\n",
      "1952.100     2\n",
      "2790.906     2\n",
      "3333.333     2\n",
      "3345.922     2\n",
      "3750.000     2\n",
      "3011.330     2\n",
      "6604.533     2\n",
      "5745.982     2\n",
      "4338.919     2\n",
      "            ..\n",
      "6302.045     1\n",
      "4361.111     1\n",
      "3339.520     1\n",
      "2500.063     1\n",
      "9917.528     1\n",
      "3085.453     1\n",
      "4628.180     1\n",
      "5553.816     1\n",
      "4575.000     1\n",
      "5573.327     1\n",
      "3503.257     1\n",
      "11555.560    1\n",
      "7594.292     1\n",
      "5182.721     1\n",
      "7649.844     1\n",
      "8166.667     1\n",
      "5833.333     1\n",
      "3669.185     1\n",
      "4166.667     1\n",
      "6192.661     1\n",
      "4291.672     1\n",
      "2081.250     1\n",
      "5821.429     1\n",
      "5467.033     1\n",
      "3625.000     1\n",
      "6500.000     1\n",
      "1382.018     1\n",
      "17512.680    1\n",
      "2079.365     1\n",
      "15000.000    1\n",
      "Name: Sales, Length: 308, dtype: int64\n"
     ]
    }
   ],
   "source": [
    "print('----Annual Sales----')\n",
    "print(df['AnnualSales'].describe())\n",
    "print('-------Sales-------')\n",
    "print(df['Sales'].describe())\n",
    "print('----SFloorSize----')\n",
    "print(df['SFloorSize'].describe())\n",
    "print('----Total Investment----')\n",
    "print(df['TotalInvestment'].describe())"
   ]
  },
  {
   "cell_type": "code",
   "execution_count": null,
   "metadata": {},
   "outputs": [],
   "source": []
  }
 ],
 "metadata": {
  "kernelspec": {
   "display_name": "Python 3",
   "language": "python",
   "name": "python3"
  },
  "language_info": {
   "codemirror_mode": {
    "name": "ipython",
    "version": 3
   },
   "file_extension": ".py",
   "mimetype": "text/x-python",
   "name": "python",
   "nbconvert_exporter": "python",
   "pygments_lexer": "ipython3",
   "version": "3.6.5"
  }
 },
 "nbformat": 4,
 "nbformat_minor": 2
}
