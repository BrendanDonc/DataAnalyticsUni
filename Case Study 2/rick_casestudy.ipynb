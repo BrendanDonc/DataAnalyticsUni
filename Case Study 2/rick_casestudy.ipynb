{
 "cells": [
  {
   "cell_type": "code",
   "execution_count": 6,
   "metadata": {},
   "outputs": [
    {
     "name": "stdout",
     "output_type": "stream",
     "text": [
      "<class 'pandas.core.frame.DataFrame'>\n",
      "RangeIndex: 400 entries, 0 to 399\n",
      "Data columns (total 5 columns):\n",
      "StoreCode          400 non-null int64\n",
      "AnnualSales        385 non-null float64\n",
      "Sales              385 non-null float64\n",
      "SFloorSize         400 non-null int64\n",
      "TotalInvestment    385 non-null float64\n",
      "dtypes: float64(3), int64(2)\n",
      "memory usage: 15.7 KB\n"
     ]
    }
   ],
   "source": [
    "import pandas as pd\n",
    "df = pd.read_csv('datasets/MENS_CLOTHING_SALES_2018 .csv')\n",
    "\n",
    "df.info()"
   ]
  },
  {
   "cell_type": "code",
   "execution_count": 12,
   "metadata": {},
   "outputs": [
    {
     "name": "stdout",
     "output_type": "stream",
     "text": [
      "----Annual Sales----\n",
      "count    3.850000e+02\n",
      "mean     8.320083e+05\n",
      "std      5.859337e+05\n",
      "min      5.000000e+04\n",
      "25%      4.953400e+05\n",
      "50%      6.942270e+05\n",
      "75%      9.768170e+05\n",
      "max      5.000000e+06\n",
      "Name: AnnualSales, dtype: float64\n",
      "-------Sales-------\n",
      "count      385.000000\n",
      "mean      6353.494951\n",
      "std       3770.794382\n",
      "min        300.000000\n",
      "25%       3904.200000\n",
      "50%       5333.333000\n",
      "75%       7822.003000\n",
      "max      27000.000000\n",
      "Name: Sales, dtype: float64\n",
      "----SFloorSize----\n",
      "count     400.000000\n",
      "mean      144.875000\n",
      "std       114.562716\n",
      "min         0.000000\n",
      "25%        80.000000\n",
      "50%       117.000000\n",
      "75%       180.000000\n",
      "max      1214.000000\n",
      "Name: SFloorSize, dtype: float64\n",
      "----Total Investment----\n",
      "count    3.850000e+02\n",
      "mean     8.494850e+04\n",
      "std      1.322060e+05\n",
      "min      4.000000e+03\n",
      "25%      3.720704e+04\n",
      "50%      4.506689e+04\n",
      "75%      7.889412e+04\n",
      "max      1.800000e+06\n",
      "Name: TotalInvestment, dtype: float64\n"
     ]
    }
   ],
   "source": [
    "print('----Annual Sales----')\n",
    "print(df['AnnualSales'].describe())\n",
    "print('-------Sales-------')\n",
    "print(df['Sales'].describe())\n",
    "print('----SFloorSize----')\n",
    "print(df['SFloorSize'].describe())\n",
    "print('----Total Investment----')\n",
    "print(df['TotalInvestment'].describe())"
   ]
  },
  {
   "cell_type": "code",
   "execution_count": null,
   "metadata": {},
   "outputs": [],
   "source": []
  }
 ],
 "metadata": {
  "kernelspec": {
   "display_name": "Python 3",
   "language": "python",
   "name": "python3"
  },
  "language_info": {
   "codemirror_mode": {
    "name": "ipython",
    "version": 3
   },
   "file_extension": ".py",
   "mimetype": "text/x-python",
   "name": "python",
   "nbconvert_exporter": "python",
   "pygments_lexer": "ipython3",
   "version": "3.6.5"
  }
 },
 "nbformat": 4,
 "nbformat_minor": 2
}
