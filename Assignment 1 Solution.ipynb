{
 "cells": [
  {
   "cell_type": "code",
   "execution_count": 2,
   "metadata": {},
   "outputs": [],
   "source": [
    "import os #RICK STUFF\n",
    "os.environ[\"PATH\"] += os.pathsep + 'C:/Program Files (x86)/Graphviz2.38/bin/'\n",
    "\n",
    "import numpy as np\n",
    "import pandas as pd\n",
    "\n",
    "from sklearn.tree import DecisionTreeClassifier\n",
    "from sklearn.model_selection import train_test_split, GridSearchCV\n",
    "from sklearn.linear_model import LogisticRegression\n",
    "\n",
    "from sklearn.metrics import classification_report, accuracy_score\n",
    "from sklearn.preprocessing import StandardScaler\n",
    "\n",
    "import pydot\n",
    "from io import StringIO\n",
    "from sklearn.tree import export_graphviz"
   ]
  },
  {
   "cell_type": "code",
   "execution_count": 3,
   "metadata": {},
   "outputs": [],
   "source": [
    "df = pd.read_csv('STUDENT.csv')"
   ]
  },
  {
   "cell_type": "code",
   "execution_count": 4,
   "metadata": {},
   "outputs": [
    {
     "data": {
      "text/plain": [
       "PASS    661\n",
       "FAIL    383\n",
       "Name: G3, dtype: int64"
      ]
     },
     "execution_count": 4,
     "metadata": {},
     "output_type": "execute_result"
    }
   ],
   "source": [
    "# Task 1.1\n",
    "df['G3'].value_counts()"
   ]
  },
  {
   "cell_type": "code",
   "execution_count": 5,
   "metadata": {},
   "outputs": [],
   "source": [
    "# Task 1.2\n",
    "def preprocess():\n",
    "    import pandas as pd\n",
    "    #Preprocess data\n",
    "    df_raw = pd.read_csv('STUDENT.csv', index_col=0)\n",
    "    df = df_raw.drop(['InitialName', 'guardian'], axis=1)\n",
    "    \n",
    "    # Map binaries\n",
    "    df['address'] = df['address'].map({ 'U':0, 'R':1 })\n",
    "    df['sex'] = df['sex'].map({ 'M':0, 'F':1 })\n",
    "    df['famsize'] = df['famsize'].map({ 'LE3':0, 'GT3':1 })\n",
    "    df['Pstatus'] = df['Pstatus'].map({ 'A':0, 'T':1 })\n",
    "    df['schoolsup'] = df['schoolsup'].map({ 'no':0, 'yes':1 })\n",
    "    df['famsup'] = df['famsup'].map({ 'no':0, 'yes':1 })\n",
    "    df['paid'] = df['paid'].map({ 'no':0, 'yes':1 })\n",
    "    df['activities'] = df['activities'].map({ 'no':0, 'yes':1 })\n",
    "    df['nursery'] = df['nursery'].map({ 'no':0, 'yes':1 })\n",
    "    df['higher'] = df['higher'].map({ 'no':0, 'yes':1 })\n",
    "    df['internet'] = df['internet'].map({ 'no':0, 'yes':1 })\n",
    "    df['romantic'] = df['romantic'].map({ 'no':0, 'yes':1 })\n",
    "    df['G3'] = df['G3'].map({ 'FAIL': 0, 'PASS': 1 })\n",
    "\n",
    "    # Fill via median for age\n",
    "    df['age'].fillna(df['age'].median(), inplace=True)\n",
    "    df['age'] = df['age'].astype(int)\n",
    "    \n",
    "    # Fill via 'none' since hot encode will flag\n",
    "    df['school'].fillna('none', inplace=True)\n",
    "    df['reason'].fillna('none', inplace=True)\n",
    "\n",
    "    # Task 1.3\n",
    "    #Drop g1 & 2 empty rows\n",
    "    df = df.drop(['G1', 'G2', 'failures'], axis=1)\n",
    "\n",
    "    # Hot encode\n",
    "    df = pd.get_dummies(df)\n",
    "    return df"
   ]
  },
  {
   "cell_type": "code",
   "execution_count": 6,
   "metadata": {},
   "outputs": [],
   "source": [
    "def analyse_feature_importance(dm_model, feature_names, n_to_display=20):\n",
    "    # grab feature importances from the model\n",
    "    importances = dm_model.feature_importances_\n",
    "\n",
    "    # sort them out in descending order\n",
    "    indices = np.argsort(importances)\n",
    "    indices = np.flip(indices, axis=0)\n",
    "    # limit to 20 features, you can leave this out to print out everything\n",
    "    indices = indices[:n_to_display]\n",
    "    for i in indices:\n",
    "        print(feature_names[i], ':', importances[i])\n",
    "        \n",
    "def visualize_decision_tree(dm_model, feature_names, save_name):\n",
    "    dotfile = StringIO()\n",
    "    export_graphviz(dm_model, out_file=dotfile, feature_names=feature_names)\n",
    "    graph = pydot.graph_from_dot_data(dotfile.getvalue())\n",
    "    graph[0].write_png(save_name) # saved in the following file CHANGED TO ACCESS INDEX"
   ]
  },
  {
   "cell_type": "code",
   "execution_count": 7,
   "metadata": {},
   "outputs": [],
   "source": [
    "df = preprocess()"
   ]
  },
  {
   "cell_type": "code",
   "execution_count": 8,
   "metadata": {},
   "outputs": [],
   "source": [
    "#\n",
    "# Start of Task 2\n",
    "#"
   ]
  },
  {
   "cell_type": "code",
   "execution_count": 9,
   "metadata": {},
   "outputs": [
    {
     "name": "stderr",
     "output_type": "stream",
     "text": [
      "C:\\Users\\longs\\Anaconda3\\lib\\site-packages\\ipykernel_launcher.py:9: FutureWarning: Method .as_matrix will be removed in a future version. Use .values instead.\n",
      "  if __name__ == '__main__':\n"
     ]
    },
    {
     "name": "stdout",
     "output_type": "stream",
     "text": [
      "DecisionTreeClassifier(class_weight=None, criterion='gini', max_depth=None,\n",
      "            max_features=None, max_leaf_nodes=None,\n",
      "            min_impurity_decrease=0.0, min_impurity_split=None,\n",
      "            min_samples_leaf=1, min_samples_split=2,\n",
      "            min_weight_fraction_leaf=0.0, presort=False, random_state=None,\n",
      "            splitter='best')\n",
      "Train accuracy: 0.9972602739726028\n",
      "Test accuracy: 0.5859872611464968\n",
      "             precision    recall  f1-score   support\n",
      "\n",
      "          0       0.44      0.50      0.47       115\n",
      "          1       0.69      0.63      0.66       199\n",
      "\n",
      "avg / total       0.60      0.59      0.59       314\n",
      "\n",
      "absences : 0.10845480148825952\n",
      "higher : 0.06658724391357355\n",
      "goout : 0.049009924258033216\n",
      "age : 0.04804732832758069\n",
      "famrel : 0.04411324732773461\n"
     ]
    },
    {
     "ename": "TypeError",
     "evalue": "'Dot' object does not support indexing",
     "output_type": "error",
     "traceback": [
      "\u001b[1;31m---------------------------------------------------------------------------\u001b[0m",
      "\u001b[1;31mTypeError\u001b[0m                                 Traceback (most recent call last)",
      "\u001b[1;32m<ipython-input-9-a561a2ec3970>\u001b[0m in \u001b[0;36m<module>\u001b[1;34m()\u001b[0m\n\u001b[0;32m     43\u001b[0m \u001b[0mexport_graphviz\u001b[0m\u001b[1;33m(\u001b[0m\u001b[0mmodel\u001b[0m\u001b[1;33m,\u001b[0m \u001b[0mout_file\u001b[0m\u001b[1;33m=\u001b[0m\u001b[0mdotfile\u001b[0m\u001b[1;33m,\u001b[0m \u001b[0mfeature_names\u001b[0m\u001b[1;33m=\u001b[0m\u001b[0mx\u001b[0m\u001b[1;33m.\u001b[0m\u001b[0mcolumns\u001b[0m\u001b[1;33m)\u001b[0m\u001b[1;33m\u001b[0m\u001b[0m\n\u001b[0;32m     44\u001b[0m \u001b[0mgraph\u001b[0m \u001b[1;33m=\u001b[0m \u001b[0mpydot\u001b[0m\u001b[1;33m.\u001b[0m\u001b[0mgraph_from_dot_data\u001b[0m\u001b[1;33m(\u001b[0m\u001b[0mdotfile\u001b[0m\u001b[1;33m.\u001b[0m\u001b[0mgetvalue\u001b[0m\u001b[1;33m(\u001b[0m\u001b[1;33m)\u001b[0m\u001b[1;33m)\u001b[0m\u001b[1;33m\u001b[0m\u001b[0m\n\u001b[1;32m---> 45\u001b[1;33m \u001b[0mgraph\u001b[0m\u001b[1;33m[\u001b[0m\u001b[1;36m0\u001b[0m\u001b[1;33m]\u001b[0m\u001b[1;33m.\u001b[0m\u001b[0mwrite_png\u001b[0m\u001b[1;33m(\u001b[0m\u001b[1;34m\"default_decision.png\"\u001b[0m\u001b[1;33m)\u001b[0m \u001b[1;31m# CHANGED TO ACCESS [0] element\u001b[0m\u001b[1;33m\u001b[0m\u001b[0m\n\u001b[0m",
      "\u001b[1;31mTypeError\u001b[0m: 'Dot' object does not support indexing"
     ]
    }
   ],
   "source": [
    "# Task 2.1\n",
    "y = df['G3']\n",
    "x = df.drop(['G3'], axis=1)\n",
    "\n",
    "# set seed for randomisation\n",
    "rs = 10\n",
    "\n",
    "# Convert x into numpy matrix for sklearn consumption\n",
    "x_mat = x.as_matrix()\n",
    "# Setup training and test datasets on a 70/30 split\n",
    "x_train, x_test, y_train, y_test = train_test_split(x_mat, y, test_size=0.3, stratify=y, random_state=rs)\n",
    "\n",
    "# simple decision tree training\n",
    "model = DecisionTreeClassifier()\n",
    "model.fit(x_train, y_train)\n",
    "print(model)\n",
    "# Check accuracy on the training sets\n",
    "print(\"Train accuracy:\", model.score(x_train, y_train))\n",
    "# Check accuracy on the test sets\n",
    "print(\"Test accuracy:\", model.score(x_test, y_test))\n",
    "\n",
    "y_pred = model.predict(x_test)\n",
    "print(classification_report(y_test, y_pred))\n",
    "\n",
    "# Check which features have the largest impact on the decision tree?\n",
    "\n",
    "# grab feature importances from the model and feature name from the original x\n",
    "importances = model.feature_importances_\n",
    "feature_names = x.columns\n",
    "\n",
    "# sort in descending order\n",
    "indices = np.argsort(importances)\n",
    "indices = np.flip(indices, axis=0)\n",
    "\n",
    "# limit to 5 features\n",
    "indices = indices[:5]\n",
    "\n",
    "for i in indices:\n",
    "    print(feature_names[i], ':', importances[i])\n",
    "    \n",
    "# visualize\n",
    "dotfile = StringIO()\n",
    "export_graphviz(model, out_file=dotfile, feature_names=x.columns)\n",
    "graph = pydot.graph_from_dot_data(dotfile.getvalue())\n",
    "graph[0].write_png(\"default_decision.png\") # CHANGED TO ACCESS [0] element"
   ]
  },
  {
   "cell_type": "code",
   "execution_count": 10,
   "metadata": {},
   "outputs": [
    {
     "name": "stdout",
     "output_type": "stream",
     "text": [
      "1 ) higher <= 0.5  & famrel <= 1.5  [[0. 3.]]\n",
      "2 ) higher <= 0.5  & famrel > 1.5 & age <= 16.5  & famsize <= 0.5  [[2. 0.]]\n",
      "3 ) higher <= 0.5  & famrel > 1.5 & age <= 16.5  & famsize > 0.5 & traveltime <= 1.5  & Mjob_other <= 0.5  [[2. 0.]]\n",
      "4 ) higher <= 0.5  & famrel > 1.5 & age <= 16.5  & famsize > 0.5 & traveltime <= 1.5  & Mjob_other > 0.5 & health <= 4.5  & reason_none <= 0.5  [[1. 0.]]\n",
      "5 ) higher <= 0.5  & famrel > 1.5 & age <= 16.5  & famsize > 0.5 & traveltime <= 1.5  & Mjob_other > 0.5 & health <= 4.5  & reason_none > 0.5 [[0. 1.]]\n",
      "6 ) higher <= 0.5  & famrel > 1.5 & age <= 16.5  & famsize > 0.5 & traveltime <= 1.5  & Mjob_other > 0.5 & health > 4.5 [[0. 1.]]\n",
      "7 ) higher <= 0.5  & famrel > 1.5 & age <= 16.5  & famsize > 0.5 & traveltime > 1.5 [[0. 3.]]\n",
      "8 ) higher <= 0.5  & famrel > 1.5 & age > 16.5 & school_none <= 0.5  & Mjob_at_home <= 0.5  & Fjob_at_home <= 0.5  [[28.  0.]]\n",
      "9 ) higher <= 0.5  & famrel > 1.5 & age > 16.5 & school_none <= 0.5  & Mjob_at_home <= 0.5  & Fjob_at_home > 0.5 & Medu <= 2.5  [[1. 0.]]\n",
      "10 ) higher <= 0.5  & famrel > 1.5 & age > 16.5 & school_none <= 0.5  & Mjob_at_home <= 0.5  & Fjob_at_home > 0.5 & Medu > 2.5 & absences <= 3.0  [[1. 0.]]\n",
      "11 ) higher <= 0.5  & famrel > 1.5 & age > 16.5 & school_none <= 0.5  & Mjob_at_home <= 0.5  & Fjob_at_home > 0.5 & Medu > 2.5 & absences > 3.0 [[0. 1.]]\n",
      "12 ) higher <= 0.5  & famrel > 1.5 & age > 16.5 & school_none <= 0.5  & Mjob_at_home > 0.5 & goout <= 1.5  [[0. 2.]]\n",
      "13 ) higher <= 0.5  & famrel > 1.5 & age > 16.5 & school_none <= 0.5  & Mjob_at_home > 0.5 & goout > 1.5 & Pstatus <= 0.5  [[0. 1.]]\n",
      "14 ) higher <= 0.5  & famrel > 1.5 & age > 16.5 & school_none <= 0.5  & Mjob_at_home > 0.5 & goout > 1.5 & Pstatus > 0.5 & reason_other <= 0.5  [[12.  0.]]\n",
      "15 ) higher <= 0.5  & famrel > 1.5 & age > 16.5 & school_none <= 0.5  & Mjob_at_home > 0.5 & goout > 1.5 & Pstatus > 0.5 & reason_other > 0.5 & health <= 4.0  [[1. 0.]]\n",
      "16 ) higher <= 0.5  & famrel > 1.5 & age > 16.5 & school_none <= 0.5  & Mjob_at_home > 0.5 & goout > 1.5 & Pstatus > 0.5 & reason_other > 0.5 & health > 4.0 [[0. 1.]]\n",
      "17 ) higher <= 0.5  & famrel > 1.5 & age > 16.5 & school_none > 0.5 [[0. 1.]]\n",
      "18 ) higher > 0.5 & school_DCHS <= 0.5  & Fedu <= 1.5  & Walc <= 2.5  & Mjob_other <= 0.5  & Medu <= 2.5  & age <= 18.5  & freetime <= 3.5  [[0. 7.]]\n",
      "19 ) higher > 0.5 & school_DCHS <= 0.5  & Fedu <= 1.5  & Walc <= 2.5  & Mjob_other <= 0.5  & Medu <= 2.5  & age <= 18.5  & freetime > 3.5 & traveltime <= 1.5  [[0. 2.]]\n",
      "20 ) higher > 0.5 & school_DCHS <= 0.5  & Fedu <= 1.5  & Walc <= 2.5  & Mjob_other <= 0.5  & Medu <= 2.5  & age <= 18.5  & freetime > 3.5 & traveltime > 1.5 [[1. 0.]]\n",
      "21 ) higher > 0.5 & school_DCHS <= 0.5  & Fedu <= 1.5  & Walc <= 2.5  & Mjob_other <= 0.5  & Medu <= 2.5  & age > 18.5 & Fjob_services <= 0.5  [[1. 0.]]\n",
      "22 ) higher > 0.5 & school_DCHS <= 0.5  & Fedu <= 1.5  & Walc <= 2.5  & Mjob_other <= 0.5  & Medu <= 2.5  & age > 18.5 & Fjob_services > 0.5 [[0. 1.]]\n",
      "23 ) higher > 0.5 & school_DCHS <= 0.5  & Fedu <= 1.5  & Walc <= 2.5  & Mjob_other <= 0.5  & Medu > 2.5 & famrel <= 3.5  [[1. 0.]]\n",
      "24 ) higher > 0.5 & school_DCHS <= 0.5  & Fedu <= 1.5  & Walc <= 2.5  & Mjob_other <= 0.5  & Medu > 2.5 & famrel > 3.5 & paid <= 0.5  & age <= 16.0  [[1. 0.]]\n",
      "25 ) higher > 0.5 & school_DCHS <= 0.5  & Fedu <= 1.5  & Walc <= 2.5  & Mjob_other <= 0.5  & Medu > 2.5 & famrel > 3.5 & paid <= 0.5  & age > 16.0 [[0. 2.]]\n",
      "26 ) higher > 0.5 & school_DCHS <= 0.5  & Fedu <= 1.5  & Walc <= 2.5  & Mjob_other <= 0.5  & Medu > 2.5 & famrel > 3.5 & paid > 0.5 [[1. 0.]]\n",
      "27 ) higher > 0.5 & school_DCHS <= 0.5  & Fedu <= 1.5  & Walc <= 2.5  & Mjob_other > 0.5 & traveltime <= 1.5  & health <= 4.5  [[0. 4.]]\n",
      "28 ) higher > 0.5 & school_DCHS <= 0.5  & Fedu <= 1.5  & Walc <= 2.5  & Mjob_other > 0.5 & traveltime <= 1.5  & health > 4.5 [[2. 0.]]\n",
      "29 ) higher > 0.5 & school_DCHS <= 0.5  & Fedu <= 1.5  & Walc <= 2.5  & Mjob_other > 0.5 & traveltime > 1.5 & traveltime <= 3.5  [[11.  0.]]\n",
      "30 ) higher > 0.5 & school_DCHS <= 0.5  & Fedu <= 1.5  & Walc <= 2.5  & Mjob_other > 0.5 & traveltime > 1.5 & traveltime > 3.5 & studytime <= 3.5  & reason_none <= 0.5  [[0. 1.]]\n",
      "31 ) higher > 0.5 & school_DCHS <= 0.5  & Fedu <= 1.5  & Walc <= 2.5  & Mjob_other > 0.5 & traveltime > 1.5 & traveltime > 3.5 & studytime <= 3.5  & reason_none > 0.5 [[1. 0.]]\n",
      "32 ) higher > 0.5 & school_DCHS <= 0.5  & Fedu <= 1.5  & Walc <= 2.5  & Mjob_other > 0.5 & traveltime > 1.5 & traveltime > 3.5 & studytime > 3.5 [[0. 1.]]\n",
      "33 ) higher > 0.5 & school_DCHS <= 0.5  & Fedu <= 1.5  & Walc > 2.5 & Dalc <= 2.5  & reason_home <= 0.5  [[13.  0.]]\n",
      "34 ) higher > 0.5 & school_DCHS <= 0.5  & Fedu <= 1.5  & Walc > 2.5 & Dalc <= 2.5  & reason_home > 0.5 & Mjob_other <= 0.5  [[0. 1.]]\n",
      "35 ) higher > 0.5 & school_DCHS <= 0.5  & Fedu <= 1.5  & Walc > 2.5 & Dalc <= 2.5  & reason_home > 0.5 & Mjob_other > 0.5 [[1. 0.]]\n",
      "36 ) higher > 0.5 & school_DCHS <= 0.5  & Fedu <= 1.5  & Walc > 2.5 & Dalc > 2.5 & absences <= 5.5  & famsize <= 0.5  [[0. 1.]]\n",
      "37 ) higher > 0.5 & school_DCHS <= 0.5  & Fedu <= 1.5  & Walc > 2.5 & Dalc > 2.5 & absences <= 5.5  & famsize > 0.5 [[6. 0.]]\n",
      "38 ) higher > 0.5 & school_DCHS <= 0.5  & Fedu <= 1.5  & Walc > 2.5 & Dalc > 2.5 & absences > 5.5 & goout <= 4.5  [[0. 2.]]\n",
      "39 ) higher > 0.5 & school_DCHS <= 0.5  & Fedu <= 1.5  & Walc > 2.5 & Dalc > 2.5 & absences > 5.5 & goout > 4.5 [[1. 0.]]\n",
      "40 ) higher > 0.5 & school_DCHS <= 0.5  & Fedu > 1.5 & Dalc <= 2.5  & famrel <= 3.5  & goout <= 2.5  & address <= 0.5  [[7. 0.]]\n",
      "41 ) higher > 0.5 & school_DCHS <= 0.5  & Fedu > 1.5 & Dalc <= 2.5  & famrel <= 3.5  & goout <= 2.5  & address > 0.5 & reason_course <= 0.5  [[1. 0.]]\n",
      "42 ) higher > 0.5 & school_DCHS <= 0.5  & Fedu > 1.5 & Dalc <= 2.5  & famrel <= 3.5  & goout <= 2.5  & address > 0.5 & reason_course > 0.5 [[0. 1.]]\n",
      "43 ) higher > 0.5 & school_DCHS <= 0.5  & Fedu > 1.5 & Dalc <= 2.5  & famrel <= 3.5  & goout > 2.5 & reason_course <= 0.5  & Fjob_services <= 0.5  & freetime <= 1.5  [[1. 0.]]\n",
      "44 ) higher > 0.5 & school_DCHS <= 0.5  & Fedu > 1.5 & Dalc <= 2.5  & famrel <= 3.5  & goout > 2.5 & reason_course <= 0.5  & Fjob_services <= 0.5  & freetime > 1.5 [[ 0. 10.]]\n",
      "45 ) higher > 0.5 & school_DCHS <= 0.5  & Fedu > 1.5 & Dalc <= 2.5  & famrel <= 3.5  & goout > 2.5 & reason_course <= 0.5  & Fjob_services > 0.5 [[2. 0.]]\n",
      "46 ) higher > 0.5 & school_DCHS <= 0.5  & Fedu > 1.5 & Dalc <= 2.5  & famrel <= 3.5  & goout > 2.5 & reason_course > 0.5 [[4. 0.]]\n",
      "47 ) higher > 0.5 & school_DCHS <= 0.5  & Fedu > 1.5 & Dalc <= 2.5  & famrel > 3.5 & reason_home <= 0.5  & absences <= 9.0  & age <= 17.5  & studytime <= 1.5  & Fedu <= 2.5  & internet <= 0.5  [[0. 5.]]\n",
      "48 ) higher > 0.5 & school_DCHS <= 0.5  & Fedu > 1.5 & Dalc <= 2.5  & famrel > 3.5 & reason_home <= 0.5  & absences <= 9.0  & age <= 17.5  & studytime <= 1.5  & Fedu <= 2.5  & internet > 0.5 & health <= 2.5  [[0. 1.]]\n",
      "49 ) higher > 0.5 & school_DCHS <= 0.5  & Fedu > 1.5 & Dalc <= 2.5  & famrel > 3.5 & reason_home <= 0.5  & absences <= 9.0  & age <= 17.5  & studytime <= 1.5  & Fedu <= 2.5  & internet > 0.5 & health > 2.5 [[5. 0.]]\n",
      "50 ) higher > 0.5 & school_DCHS <= 0.5  & Fedu > 1.5 & Dalc <= 2.5  & famrel > 3.5 & reason_home <= 0.5  & absences <= 9.0  & age <= 17.5  & studytime <= 1.5  & Fedu > 2.5 [[0. 7.]]\n",
      "51 ) higher > 0.5 & school_DCHS <= 0.5  & Fedu > 1.5 & Dalc <= 2.5  & famrel > 3.5 & reason_home <= 0.5  & absences <= 9.0  & age <= 17.5  & studytime > 1.5 & schoolsup <= 0.5  & reason_course <= 0.5  [[ 0. 32.]]\n",
      "52 ) higher > 0.5 & school_DCHS <= 0.5  & Fedu > 1.5 & Dalc <= 2.5  & famrel > 3.5 & reason_home <= 0.5  & absences <= 9.0  & age <= 17.5  & studytime > 1.5 & schoolsup <= 0.5  & reason_course > 0.5 & Mjob_other <= 0.5  [[1. 0.]]\n",
      "53 ) higher > 0.5 & school_DCHS <= 0.5  & Fedu > 1.5 & Dalc <= 2.5  & famrel > 3.5 & reason_home <= 0.5  & absences <= 9.0  & age <= 17.5  & studytime > 1.5 & schoolsup <= 0.5  & reason_course > 0.5 & Mjob_other > 0.5 [[0. 3.]]\n",
      "54 ) higher > 0.5 & school_DCHS <= 0.5  & Fedu > 1.5 & Dalc <= 2.5  & famrel > 3.5 & reason_home <= 0.5  & absences <= 9.0  & age <= 17.5  & studytime > 1.5 & schoolsup > 0.5 & activities <= 0.5  [[0. 5.]]\n",
      "55 ) higher > 0.5 & school_DCHS <= 0.5  & Fedu > 1.5 & Dalc <= 2.5  & famrel > 3.5 & reason_home <= 0.5  & absences <= 9.0  & age <= 17.5  & studytime > 1.5 & schoolsup > 0.5 & activities > 0.5 [[2. 0.]]\n",
      "56 ) higher > 0.5 & school_DCHS <= 0.5  & Fedu > 1.5 & Dalc <= 2.5  & famrel > 3.5 & reason_home <= 0.5  & absences <= 9.0  & age > 17.5 & famsup <= 0.5  & activities <= 0.5  [[0. 9.]]\n",
      "57 ) higher > 0.5 & school_DCHS <= 0.5  & Fedu > 1.5 & Dalc <= 2.5  & famrel > 3.5 & reason_home <= 0.5  & absences <= 9.0  & age > 17.5 & famsup <= 0.5  & activities > 0.5 & traveltime <= 2.5  [[0. 1.]]\n",
      "58 ) higher > 0.5 & school_DCHS <= 0.5  & Fedu > 1.5 & Dalc <= 2.5  & famrel > 3.5 & reason_home <= 0.5  & absences <= 9.0  & age > 17.5 & famsup <= 0.5  & activities > 0.5 & traveltime > 2.5 [[1. 0.]]\n",
      "59 ) higher > 0.5 & school_DCHS <= 0.5  & Fedu > 1.5 & Dalc <= 2.5  & famrel > 3.5 & reason_home <= 0.5  & absences <= 9.0  & age > 17.5 & famsup > 0.5 & goout <= 4.5  & absences <= 5.0  [[8. 0.]]\n",
      "60 ) higher > 0.5 & school_DCHS <= 0.5  & Fedu > 1.5 & Dalc <= 2.5  & famrel > 3.5 & reason_home <= 0.5  & absences <= 9.0  & age > 17.5 & famsup > 0.5 & goout <= 4.5  & absences > 5.0 [[0. 1.]]\n",
      "61 ) higher > 0.5 & school_DCHS <= 0.5  & Fedu > 1.5 & Dalc <= 2.5  & famrel > 3.5 & reason_home <= 0.5  & absences <= 9.0  & age > 17.5 & famsup > 0.5 & goout > 4.5 [[0. 1.]]\n",
      "62 ) higher > 0.5 & school_DCHS <= 0.5  & Fedu > 1.5 & Dalc <= 2.5  & famrel > 3.5 & reason_home <= 0.5  & absences > 9.0 [[2. 0.]]\n",
      "63 ) higher > 0.5 & school_DCHS <= 0.5  & Fedu > 1.5 & Dalc <= 2.5  & famrel > 3.5 & reason_home > 0.5 [[2. 0.]]\n",
      "64 ) higher > 0.5 & school_DCHS <= 0.5  & Fedu > 1.5 & Dalc > 2.5 & Dalc <= 4.5  & freetime <= 1.5  [[0. 1.]]\n",
      "65 ) higher > 0.5 & school_DCHS <= 0.5  & Fedu > 1.5 & Dalc > 2.5 & Dalc <= 4.5  & freetime > 1.5 & health <= 2.5  & absences <= 2.5  [[0. 1.]]\n",
      "66 ) higher > 0.5 & school_DCHS <= 0.5  & Fedu > 1.5 & Dalc > 2.5 & Dalc <= 4.5  & freetime > 1.5 & health <= 2.5  & absences > 2.5 [[1. 0.]]\n",
      "67 ) higher > 0.5 & school_DCHS <= 0.5  & Fedu > 1.5 & Dalc > 2.5 & Dalc <= 4.5  & freetime > 1.5 & health > 2.5 [[9. 0.]]\n",
      "68 ) higher > 0.5 & school_DCHS <= 0.5  & Fedu > 1.5 & Dalc > 2.5 & Dalc > 4.5 & Mjob_services <= 0.5  [[0. 4.]]\n",
      "69 ) higher > 0.5 & school_DCHS <= 0.5  & Fedu > 1.5 & Dalc > 2.5 & Dalc > 4.5 & Mjob_services > 0.5 [[2. 0.]]\n",
      "70 ) higher > 0.5 & school_DCHS > 0.5 & absences <= 13.5  & traveltime <= 1.5  & paid <= 0.5  & Medu <= 1.5  & Fjob_other <= 0.5  & age <= 18.5  & Walc <= 1.5  & health <= 2.0  [[1. 0.]]\n",
      "71 ) higher > 0.5 & school_DCHS > 0.5 & absences <= 13.5  & traveltime <= 1.5  & paid <= 0.5  & Medu <= 1.5  & Fjob_other <= 0.5  & age <= 18.5  & Walc <= 1.5  & health > 2.0 & goout <= 4.0  [[0. 3.]]\n",
      "72 ) higher > 0.5 & school_DCHS > 0.5 & absences <= 13.5  & traveltime <= 1.5  & paid <= 0.5  & Medu <= 1.5  & Fjob_other <= 0.5  & age <= 18.5  & Walc <= 1.5  & health > 2.0 & goout > 4.0 & age <= 16.5  [[0. 1.]]\n",
      "73 ) higher > 0.5 & school_DCHS > 0.5 & absences <= 13.5  & traveltime <= 1.5  & paid <= 0.5  & Medu <= 1.5  & Fjob_other <= 0.5  & age <= 18.5  & Walc <= 1.5  & health > 2.0 & goout > 4.0 & age > 16.5 [[1. 0.]]\n",
      "74 ) higher > 0.5 & school_DCHS > 0.5 & absences <= 13.5  & traveltime <= 1.5  & paid <= 0.5  & Medu <= 1.5  & Fjob_other <= 0.5  & age <= 18.5  & Walc > 1.5 [[0. 9.]]\n",
      "75 ) higher > 0.5 & school_DCHS > 0.5 & absences <= 13.5  & traveltime <= 1.5  & paid <= 0.5  & Medu <= 1.5  & Fjob_other <= 0.5  & age > 18.5 [[1. 0.]]\n",
      "76 ) higher > 0.5 & school_DCHS > 0.5 & absences <= 13.5  & traveltime <= 1.5  & paid <= 0.5  & Medu <= 1.5  & Fjob_other > 0.5 & romantic <= 0.5  & freetime <= 1.5  [[2. 0.]]\n",
      "77 ) higher > 0.5 & school_DCHS > 0.5 & absences <= 13.5  & traveltime <= 1.5  & paid <= 0.5  & Medu <= 1.5  & Fjob_other > 0.5 & romantic <= 0.5  & freetime > 1.5 & famrel <= 4.5  & activities <= 0.5  [[0. 6.]]\n",
      "78 ) higher > 0.5 & school_DCHS > 0.5 & absences <= 13.5  & traveltime <= 1.5  & paid <= 0.5  & Medu <= 1.5  & Fjob_other > 0.5 & romantic <= 0.5  & freetime > 1.5 & famrel <= 4.5  & activities > 0.5 [[1. 0.]]\n",
      "79 ) higher > 0.5 & school_DCHS > 0.5 & absences <= 13.5  & traveltime <= 1.5  & paid <= 0.5  & Medu <= 1.5  & Fjob_other > 0.5 & romantic <= 0.5  & freetime > 1.5 & famrel > 4.5 [[1. 0.]]\n",
      "80 ) higher > 0.5 & school_DCHS > 0.5 & absences <= 13.5  & traveltime <= 1.5  & paid <= 0.5  & Medu <= 1.5  & Fjob_other > 0.5 & romantic > 0.5 [[4. 0.]]\n",
      "81 ) higher > 0.5 & school_DCHS > 0.5 & absences <= 13.5  & traveltime <= 1.5  & paid <= 0.5  & Medu > 1.5 & Walc <= 1.5  & Medu <= 2.5  & nursery <= 0.5  & age <= 17.5  [[0. 1.]]\n",
      "82 ) higher > 0.5 & school_DCHS > 0.5 & absences <= 13.5  & traveltime <= 1.5  & paid <= 0.5  & Medu > 1.5 & Walc <= 1.5  & Medu <= 2.5  & nursery <= 0.5  & age > 17.5 [[1. 0.]]\n",
      "83 ) higher > 0.5 & school_DCHS > 0.5 & absences <= 13.5  & traveltime <= 1.5  & paid <= 0.5  & Medu > 1.5 & Walc <= 1.5  & Medu <= 2.5  & nursery > 0.5 & goout <= 2.5  & Fjob_health <= 0.5  & absences <= 10.0  & health <= 1.5  [[1. 1.]]\n",
      "84 ) higher > 0.5 & school_DCHS > 0.5 & absences <= 13.5  & traveltime <= 1.5  & paid <= 0.5  & Medu > 1.5 & Walc <= 1.5  & Medu <= 2.5  & nursery > 0.5 & goout <= 2.5  & Fjob_health <= 0.5  & absences <= 10.0  & health > 1.5 [[0. 8.]]\n",
      "85 ) higher > 0.5 & school_DCHS > 0.5 & absences <= 13.5  & traveltime <= 1.5  & paid <= 0.5  & Medu > 1.5 & Walc <= 1.5  & Medu <= 2.5  & nursery > 0.5 & goout <= 2.5  & Fjob_health <= 0.5  & absences > 10.0 [[1. 0.]]\n",
      "86 ) higher > 0.5 & school_DCHS > 0.5 & absences <= 13.5  & traveltime <= 1.5  & paid <= 0.5  & Medu > 1.5 & Walc <= 1.5  & Medu <= 2.5  & nursery > 0.5 & goout <= 2.5  & Fjob_health > 0.5 [[1. 0.]]\n",
      "87 ) higher > 0.5 & school_DCHS > 0.5 & absences <= 13.5  & traveltime <= 1.5  & paid <= 0.5  & Medu > 1.5 & Walc <= 1.5  & Medu <= 2.5  & nursery > 0.5 & goout > 2.5 [[ 0. 13.]]\n",
      "88 ) higher > 0.5 & school_DCHS > 0.5 & absences <= 13.5  & traveltime <= 1.5  & paid <= 0.5  & Medu > 1.5 & Walc <= 1.5  & Medu > 2.5 & studytime <= 3.5  [[ 0. 49.]]\n",
      "89 ) higher > 0.5 & school_DCHS > 0.5 & absences <= 13.5  & traveltime <= 1.5  & paid <= 0.5  & Medu > 1.5 & Walc <= 1.5  & Medu > 2.5 & studytime > 3.5 & absences <= 1.0  [[1. 0.]]\n",
      "90 ) higher > 0.5 & school_DCHS > 0.5 & absences <= 13.5  & traveltime <= 1.5  & paid <= 0.5  & Medu > 1.5 & Walc <= 1.5  & Medu > 2.5 & studytime > 3.5 & absences > 1.0 [[0. 6.]]\n",
      "91 ) higher > 0.5 & school_DCHS > 0.5 & absences <= 13.5  & traveltime <= 1.5  & paid <= 0.5  & Medu > 1.5 & Walc > 1.5 & sex <= 0.5  & famsup <= 0.5  & schoolsup <= 0.5  & Mjob_at_home <= 0.5  & nursery <= 0.5  & absences <= 3.5  [[0. 5.]]\n",
      "92 ) higher > 0.5 & school_DCHS > 0.5 & absences <= 13.5  & traveltime <= 1.5  & paid <= 0.5  & Medu > 1.5 & Walc > 1.5 & sex <= 0.5  & famsup <= 0.5  & schoolsup <= 0.5  & Mjob_at_home <= 0.5  & nursery <= 0.5  & absences > 3.5 & reason_none <= 0.5  [[0. 1.]]\n",
      "93 ) higher > 0.5 & school_DCHS > 0.5 & absences <= 13.5  & traveltime <= 1.5  & paid <= 0.5  & Medu > 1.5 & Walc > 1.5 & sex <= 0.5  & famsup <= 0.5  & schoolsup <= 0.5  & Mjob_at_home <= 0.5  & nursery <= 0.5  & absences > 3.5 & reason_none > 0.5 [[1. 0.]]\n",
      "94 ) higher > 0.5 & school_DCHS > 0.5 & absences <= 13.5  & traveltime <= 1.5  & paid <= 0.5  & Medu > 1.5 & Walc > 1.5 & sex <= 0.5  & famsup <= 0.5  & schoolsup <= 0.5  & Mjob_at_home <= 0.5  & nursery > 0.5 [[ 0. 18.]]\n",
      "95 ) higher > 0.5 & school_DCHS > 0.5 & absences <= 13.5  & traveltime <= 1.5  & paid <= 0.5  & Medu > 1.5 & Walc > 1.5 & sex <= 0.5  & famsup <= 0.5  & schoolsup <= 0.5  & Mjob_at_home > 0.5 [[1. 1.]]\n",
      "96 ) higher > 0.5 & school_DCHS > 0.5 & absences <= 13.5  & traveltime <= 1.5  & paid <= 0.5  & Medu > 1.5 & Walc > 1.5 & sex <= 0.5  & famsup <= 0.5  & schoolsup > 0.5 & absences <= 1.0  [[0. 1.]]\n",
      "97 ) higher > 0.5 & school_DCHS > 0.5 & absences <= 13.5  & traveltime <= 1.5  & paid <= 0.5  & Medu > 1.5 & Walc > 1.5 & sex <= 0.5  & famsup <= 0.5  & schoolsup > 0.5 & absences > 1.0 [[2. 0.]]\n",
      "98 ) higher > 0.5 & school_DCHS > 0.5 & absences <= 13.5  & traveltime <= 1.5  & paid <= 0.5  & Medu > 1.5 & Walc > 1.5 & sex <= 0.5  & famsup > 0.5 & address <= 0.5  & romantic <= 0.5  & Mjob_health <= 0.5  & freetime <= 3.5  & absences <= 5.0  & reason_home <= 0.5  [[0. 3.]]\n",
      "99 ) higher > 0.5 & school_DCHS > 0.5 & absences <= 13.5  & traveltime <= 1.5  & paid <= 0.5  & Medu > 1.5 & Walc > 1.5 & sex <= 0.5  & famsup > 0.5 & address <= 0.5  & romantic <= 0.5  & Mjob_health <= 0.5  & freetime <= 3.5  & absences <= 5.0  & reason_home > 0.5 [[1. 0.]]\n",
      "100 ) higher > 0.5 & school_DCHS > 0.5 & absences <= 13.5  & traveltime <= 1.5  & paid <= 0.5  & Medu > 1.5 & Walc > 1.5 & sex <= 0.5  & famsup > 0.5 & address <= 0.5  & romantic <= 0.5  & Mjob_health <= 0.5  & freetime <= 3.5  & absences > 5.0 [[2. 0.]]\n",
      "101 ) higher > 0.5 & school_DCHS > 0.5 & absences <= 13.5  & traveltime <= 1.5  & paid <= 0.5  & Medu > 1.5 & Walc > 1.5 & sex <= 0.5  & famsup > 0.5 & address <= 0.5  & romantic <= 0.5  & Mjob_health <= 0.5  & freetime > 3.5 [[4. 0.]]\n",
      "102 ) higher > 0.5 & school_DCHS > 0.5 & absences <= 13.5  & traveltime <= 1.5  & paid <= 0.5  & Medu > 1.5 & Walc > 1.5 & sex <= 0.5  & famsup > 0.5 & address <= 0.5  & romantic <= 0.5  & Mjob_health > 0.5 [[0. 5.]]\n",
      "103 ) higher > 0.5 & school_DCHS > 0.5 & absences <= 13.5  & traveltime <= 1.5  & paid <= 0.5  & Medu > 1.5 & Walc > 1.5 & sex <= 0.5  & famsup > 0.5 & address <= 0.5  & romantic > 0.5 [[0. 8.]]\n",
      "104 ) higher > 0.5 & school_DCHS > 0.5 & absences <= 13.5  & traveltime <= 1.5  & paid <= 0.5  & Medu > 1.5 & Walc > 1.5 & sex <= 0.5  & famsup > 0.5 & address > 0.5 & Medu <= 3.5  [[6. 0.]]\n",
      "105 ) higher > 0.5 & school_DCHS > 0.5 & absences <= 13.5  & traveltime <= 1.5  & paid <= 0.5  & Medu > 1.5 & Walc > 1.5 & sex <= 0.5  & famsup > 0.5 & address > 0.5 & Medu > 3.5 [[0. 1.]]\n",
      "106 ) higher > 0.5 & school_DCHS > 0.5 & absences <= 13.5  & traveltime <= 1.5  & paid <= 0.5  & Medu > 1.5 & Walc > 1.5 & sex > 0.5 & reason_course <= 0.5  & schoolsup <= 0.5  & absences <= 5.5  [[ 0. 33.]]\n",
      "107 ) higher > 0.5 & school_DCHS > 0.5 & absences <= 13.5  & traveltime <= 1.5  & paid <= 0.5  & Medu > 1.5 & Walc > 1.5 & sex > 0.5 & reason_course <= 0.5  & schoolsup <= 0.5  & absences > 5.5 & reason_reputation <= 0.5  & Mjob_at_home <= 0.5  [[ 0. 12.]]\n",
      "108 ) higher > 0.5 & school_DCHS > 0.5 & absences <= 13.5  & traveltime <= 1.5  & paid <= 0.5  & Medu > 1.5 & Walc > 1.5 & sex > 0.5 & reason_course <= 0.5  & schoolsup <= 0.5  & absences > 5.5 & reason_reputation <= 0.5  & Mjob_at_home > 0.5 [[1. 0.]]\n",
      "109 ) higher > 0.5 & school_DCHS > 0.5 & absences <= 13.5  & traveltime <= 1.5  & paid <= 0.5  & Medu > 1.5 & Walc > 1.5 & sex > 0.5 & reason_course <= 0.5  & schoolsup <= 0.5  & absences > 5.5 & reason_reputation > 0.5 [[1. 0.]]\n",
      "110 ) higher > 0.5 & school_DCHS > 0.5 & absences <= 13.5  & traveltime <= 1.5  & paid <= 0.5  & Medu > 1.5 & Walc > 1.5 & sex > 0.5 & reason_course <= 0.5  & schoolsup > 0.5 & Fedu <= 2.0  & reason_home <= 0.5  [[2. 0.]]\n",
      "111 ) higher > 0.5 & school_DCHS > 0.5 & absences <= 13.5  & traveltime <= 1.5  & paid <= 0.5  & Medu > 1.5 & Walc > 1.5 & sex > 0.5 & reason_course <= 0.5  & schoolsup > 0.5 & Fedu <= 2.0  & reason_home > 0.5 [[0. 1.]]\n",
      "112 ) higher > 0.5 & school_DCHS > 0.5 & absences <= 13.5  & traveltime <= 1.5  & paid <= 0.5  & Medu > 1.5 & Walc > 1.5 & sex > 0.5 & reason_course <= 0.5  & schoolsup > 0.5 & Fedu > 2.0 [[0. 4.]]\n",
      "113 ) higher > 0.5 & school_DCHS > 0.5 & absences <= 13.5  & traveltime <= 1.5  & paid <= 0.5  & Medu > 1.5 & Walc > 1.5 & sex > 0.5 & reason_course > 0.5 & Medu <= 3.0  & absences <= 5.0  [[2. 0.]]\n",
      "114 ) higher > 0.5 & school_DCHS > 0.5 & absences <= 13.5  & traveltime <= 1.5  & paid <= 0.5  & Medu > 1.5 & Walc > 1.5 & sex > 0.5 & reason_course > 0.5 & Medu <= 3.0  & absences > 5.0 [[0. 1.]]\n",
      "115 ) higher > 0.5 & school_DCHS > 0.5 & absences <= 13.5  & traveltime <= 1.5  & paid <= 0.5  & Medu > 1.5 & Walc > 1.5 & sex > 0.5 & reason_course > 0.5 & Medu > 3.0 [[0. 1.]]\n",
      "116 ) higher > 0.5 & school_DCHS > 0.5 & absences <= 13.5  & traveltime <= 1.5  & paid > 0.5 & studytime <= 1.5  & absences <= 10.0  & freetime <= 4.5  [[ 0. 13.]]\n",
      "117 ) higher > 0.5 & school_DCHS > 0.5 & absences <= 13.5  & traveltime <= 1.5  & paid > 0.5 & studytime <= 1.5  & absences <= 10.0  & freetime > 4.5 & Fjob_services <= 0.5  [[0. 2.]]\n",
      "118 ) higher > 0.5 & school_DCHS > 0.5 & absences <= 13.5  & traveltime <= 1.5  & paid > 0.5 & studytime <= 1.5  & absences <= 10.0  & freetime > 4.5 & Fjob_services > 0.5 [[1. 0.]]\n",
      "119 ) higher > 0.5 & school_DCHS > 0.5 & absences <= 13.5  & traveltime <= 1.5  & paid > 0.5 & studytime <= 1.5  & absences > 10.0 [[1. 0.]]\n",
      "120 ) higher > 0.5 & school_DCHS > 0.5 & absences <= 13.5  & traveltime <= 1.5  & paid > 0.5 & studytime > 1.5 & reason_home <= 0.5  & internet <= 0.5  [[3. 0.]]\n",
      "121 ) higher > 0.5 & school_DCHS > 0.5 & absences <= 13.5  & traveltime <= 1.5  & paid > 0.5 & studytime > 1.5 & reason_home <= 0.5  & internet > 0.5 & absences <= 6.5  & freetime <= 2.5  [[ 0. 11.]]\n",
      "122 ) higher > 0.5 & school_DCHS > 0.5 & absences <= 13.5  & traveltime <= 1.5  & paid > 0.5 & studytime > 1.5 & reason_home <= 0.5  & internet > 0.5 & absences <= 6.5  & freetime > 2.5 & age <= 17.5  & studytime <= 3.5  & Fjob_services <= 0.5  & Fedu <= 1.5  [[0. 2.]]\n",
      "123 ) higher > 0.5 & school_DCHS > 0.5 & absences <= 13.5  & traveltime <= 1.5  & paid > 0.5 & studytime > 1.5 & reason_home <= 0.5  & internet > 0.5 & absences <= 6.5  & freetime > 2.5 & age <= 17.5  & studytime <= 3.5  & Fjob_services <= 0.5  & Fedu > 1.5 & health <= 2.5  [[2. 0.]]\n",
      "124 ) higher > 0.5 & school_DCHS > 0.5 & absences <= 13.5  & traveltime <= 1.5  & paid > 0.5 & studytime > 1.5 & reason_home <= 0.5  & internet > 0.5 & absences <= 6.5  & freetime > 2.5 & age <= 17.5  & studytime <= 3.5  & Fjob_services <= 0.5  & Fedu > 1.5 & health > 2.5 & famrel <= 3.5  [[0. 2.]]\n",
      "125 ) higher > 0.5 & school_DCHS > 0.5 & absences <= 13.5  & traveltime <= 1.5  & paid > 0.5 & studytime > 1.5 & reason_home <= 0.5  & internet > 0.5 & absences <= 6.5  & freetime > 2.5 & age <= 17.5  & studytime <= 3.5  & Fjob_services <= 0.5  & Fedu > 1.5 & health > 2.5 & famrel > 3.5 & Medu <= 2.5  [[3. 0.]]\n",
      "126 ) higher > 0.5 & school_DCHS > 0.5 & absences <= 13.5  & traveltime <= 1.5  & paid > 0.5 & studytime > 1.5 & reason_home <= 0.5  & internet > 0.5 & absences <= 6.5  & freetime > 2.5 & age <= 17.5  & studytime <= 3.5  & Fjob_services <= 0.5  & Fedu > 1.5 & health > 2.5 & famrel > 3.5 & Medu > 2.5 & goout <= 3.5  [[0. 2.]]\n",
      "127 ) higher > 0.5 & school_DCHS > 0.5 & absences <= 13.5  & traveltime <= 1.5  & paid > 0.5 & studytime > 1.5 & reason_home <= 0.5  & internet > 0.5 & absences <= 6.5  & freetime > 2.5 & age <= 17.5  & studytime <= 3.5  & Fjob_services <= 0.5  & Fedu > 1.5 & health > 2.5 & famrel > 3.5 & Medu > 2.5 & goout > 3.5 [[1. 0.]]\n",
      "128 ) higher > 0.5 & school_DCHS > 0.5 & absences <= 13.5  & traveltime <= 1.5  & paid > 0.5 & studytime > 1.5 & reason_home <= 0.5  & internet > 0.5 & absences <= 6.5  & freetime > 2.5 & age <= 17.5  & studytime <= 3.5  & Fjob_services > 0.5 [[0. 5.]]\n",
      "129 ) higher > 0.5 & school_DCHS > 0.5 & absences <= 13.5  & traveltime <= 1.5  & paid > 0.5 & studytime > 1.5 & reason_home <= 0.5  & internet > 0.5 & absences <= 6.5  & freetime > 2.5 & age <= 17.5  & studytime > 3.5 [[2. 0.]]\n",
      "130 ) higher > 0.5 & school_DCHS > 0.5 & absences <= 13.5  & traveltime <= 1.5  & paid > 0.5 & studytime > 1.5 & reason_home <= 0.5  & internet > 0.5 & absences <= 6.5  & freetime > 2.5 & age > 17.5 [[0. 7.]]\n",
      "131 ) higher > 0.5 & school_DCHS > 0.5 & absences <= 13.5  & traveltime <= 1.5  & paid > 0.5 & studytime > 1.5 & reason_home <= 0.5  & internet > 0.5 & absences > 6.5 & studytime <= 2.5  & age <= 15.5  [[1. 0.]]\n",
      "132 ) higher > 0.5 & school_DCHS > 0.5 & absences <= 13.5  & traveltime <= 1.5  & paid > 0.5 & studytime > 1.5 & reason_home <= 0.5  & internet > 0.5 & absences > 6.5 & studytime <= 2.5  & age > 15.5 & Mjob_health <= 0.5  & famrel <= 3.5  & famsup <= 0.5  [[0. 1.]]\n",
      "133 ) higher > 0.5 & school_DCHS > 0.5 & absences <= 13.5  & traveltime <= 1.5  & paid > 0.5 & studytime > 1.5 & reason_home <= 0.5  & internet > 0.5 & absences > 6.5 & studytime <= 2.5  & age > 15.5 & Mjob_health <= 0.5  & famrel <= 3.5  & famsup > 0.5 [[1. 0.]]\n",
      "134 ) higher > 0.5 & school_DCHS > 0.5 & absences <= 13.5  & traveltime <= 1.5  & paid > 0.5 & studytime > 1.5 & reason_home <= 0.5  & internet > 0.5 & absences > 6.5 & studytime <= 2.5  & age > 15.5 & Mjob_health <= 0.5  & famrel > 3.5 [[0. 5.]]\n",
      "135 ) higher > 0.5 & school_DCHS > 0.5 & absences <= 13.5  & traveltime <= 1.5  & paid > 0.5 & studytime > 1.5 & reason_home <= 0.5  & internet > 0.5 & absences > 6.5 & studytime <= 2.5  & age > 15.5 & Mjob_health > 0.5 [[1. 0.]]\n",
      "136 ) higher > 0.5 & school_DCHS > 0.5 & absences <= 13.5  & traveltime <= 1.5  & paid > 0.5 & studytime > 1.5 & reason_home <= 0.5  & internet > 0.5 & absences > 6.5 & studytime > 2.5 [[3. 0.]]\n",
      "137 ) higher > 0.5 & school_DCHS > 0.5 & absences <= 13.5  & traveltime <= 1.5  & paid > 0.5 & studytime > 1.5 & reason_home > 0.5 & freetime <= 3.5  [[4. 0.]]\n",
      "138 ) higher > 0.5 & school_DCHS > 0.5 & absences <= 13.5  & traveltime <= 1.5  & paid > 0.5 & studytime > 1.5 & reason_home > 0.5 & freetime > 3.5 & schoolsup <= 0.5  [[0. 2.]]\n",
      "139 ) higher > 0.5 & school_DCHS > 0.5 & absences <= 13.5  & traveltime <= 1.5  & paid > 0.5 & studytime > 1.5 & reason_home > 0.5 & freetime > 3.5 & schoolsup > 0.5 [[1. 0.]]\n",
      "140 ) higher > 0.5 & school_DCHS > 0.5 & absences <= 13.5  & traveltime > 1.5 & goout <= 3.5  & reason_home <= 0.5  & Fedu <= 2.5  & Fedu <= 0.5  & famsup <= 0.5  [[2. 0.]]\n",
      "141 ) higher > 0.5 & school_DCHS > 0.5 & absences <= 13.5  & traveltime > 1.5 & goout <= 3.5  & reason_home <= 0.5  & Fedu <= 2.5  & Fedu <= 0.5  & famsup > 0.5 [[0. 1.]]\n",
      "142 ) higher > 0.5 & school_DCHS > 0.5 & absences <= 13.5  & traveltime > 1.5 & goout <= 3.5  & reason_home <= 0.5  & Fedu <= 2.5  & Fedu > 0.5 & studytime <= 1.5  & traveltime <= 2.5  & address <= 0.5  [[2. 0.]]\n",
      "143 ) higher > 0.5 & school_DCHS > 0.5 & absences <= 13.5  & traveltime > 1.5 & goout <= 3.5  & reason_home <= 0.5  & Fedu <= 2.5  & Fedu > 0.5 & studytime <= 1.5  & traveltime <= 2.5  & address > 0.5 & absences <= 1.0  [[1. 0.]]\n",
      "144 ) higher > 0.5 & school_DCHS > 0.5 & absences <= 13.5  & traveltime > 1.5 & goout <= 3.5  & reason_home <= 0.5  & Fedu <= 2.5  & Fedu > 0.5 & studytime <= 1.5  & traveltime <= 2.5  & address > 0.5 & absences > 1.0 [[0. 2.]]\n",
      "145 ) higher > 0.5 & school_DCHS > 0.5 & absences <= 13.5  & traveltime > 1.5 & goout <= 3.5  & reason_home <= 0.5  & Fedu <= 2.5  & Fedu > 0.5 & studytime <= 1.5  & traveltime > 2.5 [[0. 6.]]\n",
      "146 ) higher > 0.5 & school_DCHS > 0.5 & absences <= 13.5  & traveltime > 1.5 & goout <= 3.5  & reason_home <= 0.5  & Fedu <= 2.5  & Fedu > 0.5 & studytime > 1.5 [[ 0. 26.]]\n",
      "147 ) higher > 0.5 & school_DCHS > 0.5 & absences <= 13.5  & traveltime > 1.5 & goout <= 3.5  & reason_home <= 0.5  & Fedu > 2.5 & Mjob_at_home <= 0.5  & goout <= 2.5  & Pstatus <= 0.5  [[2. 0.]]\n",
      "148 ) higher > 0.5 & school_DCHS > 0.5 & absences <= 13.5  & traveltime > 1.5 & goout <= 3.5  & reason_home <= 0.5  & Fedu > 2.5 & Mjob_at_home <= 0.5  & goout <= 2.5  & Pstatus > 0.5 & paid <= 0.5  & schoolsup <= 0.5  & Fjob_teacher <= 0.5  [[0. 7.]]\n",
      "149 ) higher > 0.5 & school_DCHS > 0.5 & absences <= 13.5  & traveltime > 1.5 & goout <= 3.5  & reason_home <= 0.5  & Fedu > 2.5 & Mjob_at_home <= 0.5  & goout <= 2.5  & Pstatus > 0.5 & paid <= 0.5  & schoolsup <= 0.5  & Fjob_teacher > 0.5 & reason_course <= 0.5  [[1. 0.]]\n",
      "150 ) higher > 0.5 & school_DCHS > 0.5 & absences <= 13.5  & traveltime > 1.5 & goout <= 3.5  & reason_home <= 0.5  & Fedu > 2.5 & Mjob_at_home <= 0.5  & goout <= 2.5  & Pstatus > 0.5 & paid <= 0.5  & schoolsup <= 0.5  & Fjob_teacher > 0.5 & reason_course > 0.5 [[0. 1.]]\n",
      "151 ) higher > 0.5 & school_DCHS > 0.5 & absences <= 13.5  & traveltime > 1.5 & goout <= 3.5  & reason_home <= 0.5  & Fedu > 2.5 & Mjob_at_home <= 0.5  & goout <= 2.5  & Pstatus > 0.5 & paid <= 0.5  & schoolsup > 0.5 & absences <= 1.0  [[1. 0.]]\n",
      "152 ) higher > 0.5 & school_DCHS > 0.5 & absences <= 13.5  & traveltime > 1.5 & goout <= 3.5  & reason_home <= 0.5  & Fedu > 2.5 & Mjob_at_home <= 0.5  & goout <= 2.5  & Pstatus > 0.5 & paid <= 0.5  & schoolsup > 0.5 & absences > 1.0 & Fjob_other <= 0.5  [[0. 1.]]\n",
      "153 ) higher > 0.5 & school_DCHS > 0.5 & absences <= 13.5  & traveltime > 1.5 & goout <= 3.5  & reason_home <= 0.5  & Fedu > 2.5 & Mjob_at_home <= 0.5  & goout <= 2.5  & Pstatus > 0.5 & paid <= 0.5  & schoolsup > 0.5 & absences > 1.0 & Fjob_other > 0.5 & absences <= 3.0  [[0. 1.]]\n",
      "154 ) higher > 0.5 & school_DCHS > 0.5 & absences <= 13.5  & traveltime > 1.5 & goout <= 3.5  & reason_home <= 0.5  & Fedu > 2.5 & Mjob_at_home <= 0.5  & goout <= 2.5  & Pstatus > 0.5 & paid <= 0.5  & schoolsup > 0.5 & absences > 1.0 & Fjob_other > 0.5 & absences > 3.0 [[1. 0.]]\n",
      "155 ) higher > 0.5 & school_DCHS > 0.5 & absences <= 13.5  & traveltime > 1.5 & goout <= 3.5  & reason_home <= 0.5  & Fedu > 2.5 & Mjob_at_home <= 0.5  & goout <= 2.5  & Pstatus > 0.5 & paid > 0.5 & Fjob_health <= 0.5  [[3. 0.]]\n",
      "156 ) higher > 0.5 & school_DCHS > 0.5 & absences <= 13.5  & traveltime > 1.5 & goout <= 3.5  & reason_home <= 0.5  & Fedu > 2.5 & Mjob_at_home <= 0.5  & goout <= 2.5  & Pstatus > 0.5 & paid > 0.5 & Fjob_health > 0.5 [[0. 1.]]\n",
      "157 ) higher > 0.5 & school_DCHS > 0.5 & absences <= 13.5  & traveltime > 1.5 & goout <= 3.5  & reason_home <= 0.5  & Fedu > 2.5 & Mjob_at_home <= 0.5  & goout > 2.5 & age <= 17.5  [[ 0. 12.]]\n",
      "158 ) higher > 0.5 & school_DCHS > 0.5 & absences <= 13.5  & traveltime > 1.5 & goout <= 3.5  & reason_home <= 0.5  & Fedu > 2.5 & Mjob_at_home <= 0.5  & goout > 2.5 & age > 17.5 [[1. 0.]]\n",
      "159 ) higher > 0.5 & school_DCHS > 0.5 & absences <= 13.5  & traveltime > 1.5 & goout <= 3.5  & reason_home <= 0.5  & Fedu > 2.5 & Mjob_at_home > 0.5 & famrel <= 4.5  & absences <= 3.0  [[1. 0.]]\n",
      "160 ) higher > 0.5 & school_DCHS > 0.5 & absences <= 13.5  & traveltime > 1.5 & goout <= 3.5  & reason_home <= 0.5  & Fedu > 2.5 & Mjob_at_home > 0.5 & famrel <= 4.5  & absences > 3.0 [[0. 2.]]\n",
      "161 ) higher > 0.5 & school_DCHS > 0.5 & absences <= 13.5  & traveltime > 1.5 & goout <= 3.5  & reason_home <= 0.5  & Fedu > 2.5 & Mjob_at_home > 0.5 & famrel > 4.5 [[3. 0.]]\n",
      "162 ) higher > 0.5 & school_DCHS > 0.5 & absences <= 13.5  & traveltime > 1.5 & goout <= 3.5  & reason_home > 0.5 & famsup <= 0.5  [[0. 1.]]\n",
      "163 ) higher > 0.5 & school_DCHS > 0.5 & absences <= 13.5  & traveltime > 1.5 & goout <= 3.5  & reason_home > 0.5 & famsup > 0.5 [[4. 0.]]\n",
      "164 ) higher > 0.5 & school_DCHS > 0.5 & absences <= 13.5  & traveltime > 1.5 & goout > 3.5 & health <= 1.5  & reason_course <= 0.5  [[0. 8.]]\n",
      "165 ) higher > 0.5 & school_DCHS > 0.5 & absences <= 13.5  & traveltime > 1.5 & goout > 3.5 & health <= 1.5  & reason_course > 0.5 [[1. 0.]]\n",
      "166 ) higher > 0.5 & school_DCHS > 0.5 & absences <= 13.5  & traveltime > 1.5 & goout > 3.5 & health > 1.5 & sex <= 0.5  & famrel <= 2.5  [[0. 1.]]\n",
      "167 ) higher > 0.5 & school_DCHS > 0.5 & absences <= 13.5  & traveltime > 1.5 & goout > 3.5 & health > 1.5 & sex <= 0.5  & famrel > 2.5 & Mjob_teacher <= 0.5  [[12.  0.]]\n",
      "168 ) higher > 0.5 & school_DCHS > 0.5 & absences <= 13.5  & traveltime > 1.5 & goout > 3.5 & health > 1.5 & sex <= 0.5  & famrel > 2.5 & Mjob_teacher > 0.5 & absences <= 2.0  [[0. 1.]]\n",
      "169 ) higher > 0.5 & school_DCHS > 0.5 & absences <= 13.5  & traveltime > 1.5 & goout > 3.5 & health > 1.5 & sex <= 0.5  & famrel > 2.5 & Mjob_teacher > 0.5 & absences > 2.0 [[1. 0.]]\n",
      "170 ) higher > 0.5 & school_DCHS > 0.5 & absences <= 13.5  & traveltime > 1.5 & goout > 3.5 & health > 1.5 & sex > 0.5 & Walc <= 1.5  & absences <= 3.0  [[4. 0.]]\n",
      "171 ) higher > 0.5 & school_DCHS > 0.5 & absences <= 13.5  & traveltime > 1.5 & goout > 3.5 & health > 1.5 & sex > 0.5 & Walc <= 1.5  & absences > 3.0 & address <= 0.5  & reason_course <= 0.5  [[2. 0.]]\n",
      "172 ) higher > 0.5 & school_DCHS > 0.5 & absences <= 13.5  & traveltime > 1.5 & goout > 3.5 & health > 1.5 & sex > 0.5 & Walc <= 1.5  & absences > 3.0 & address <= 0.5  & reason_course > 0.5 [[0. 1.]]\n",
      "173 ) higher > 0.5 & school_DCHS > 0.5 & absences <= 13.5  & traveltime > 1.5 & goout > 3.5 & health > 1.5 & sex > 0.5 & Walc <= 1.5  & absences > 3.0 & address > 0.5 [[0. 1.]]\n",
      "174 ) higher > 0.5 & school_DCHS > 0.5 & absences <= 13.5  & traveltime > 1.5 & goout > 3.5 & health > 1.5 & sex > 0.5 & Walc > 1.5 & Mjob_services <= 0.5  & famsup <= 0.5  [[0. 3.]]\n",
      "175 ) higher > 0.5 & school_DCHS > 0.5 & absences <= 13.5  & traveltime > 1.5 & goout > 3.5 & health > 1.5 & sex > 0.5 & Walc > 1.5 & Mjob_services <= 0.5  & famsup > 0.5 & paid <= 0.5  & nursery <= 0.5  [[1. 0.]]\n",
      "176 ) higher > 0.5 & school_DCHS > 0.5 & absences <= 13.5  & traveltime > 1.5 & goout > 3.5 & health > 1.5 & sex > 0.5 & Walc > 1.5 & Mjob_services <= 0.5  & famsup > 0.5 & paid <= 0.5  & nursery > 0.5 & absences <= 1.0  [[0. 1.]]\n",
      "177 ) higher > 0.5 & school_DCHS > 0.5 & absences <= 13.5  & traveltime > 1.5 & goout > 3.5 & health > 1.5 & sex > 0.5 & Walc > 1.5 & Mjob_services <= 0.5  & famsup > 0.5 & paid <= 0.5  & nursery > 0.5 & absences > 1.0 & Walc <= 2.5  [[1. 0.]]\n",
      "178 ) higher > 0.5 & school_DCHS > 0.5 & absences <= 13.5  & traveltime > 1.5 & goout > 3.5 & health > 1.5 & sex > 0.5 & Walc > 1.5 & Mjob_services <= 0.5  & famsup > 0.5 & paid <= 0.5  & nursery > 0.5 & absences > 1.0 & Walc > 2.5 [[0. 1.]]\n",
      "179 ) higher > 0.5 & school_DCHS > 0.5 & absences <= 13.5  & traveltime > 1.5 & goout > 3.5 & health > 1.5 & sex > 0.5 & Walc > 1.5 & Mjob_services <= 0.5  & famsup > 0.5 & paid > 0.5 [[2. 0.]]\n",
      "180 ) higher > 0.5 & school_DCHS > 0.5 & absences <= 13.5  & traveltime > 1.5 & goout > 3.5 & health > 1.5 & sex > 0.5 & Walc > 1.5 & Mjob_services > 0.5 [[0. 5.]]\n",
      "181 ) higher > 0.5 & school_DCHS > 0.5 & absences > 13.5 & sex <= 0.5  & address <= 0.5  [[9. 0.]]\n",
      "182 ) higher > 0.5 & school_DCHS > 0.5 & absences > 13.5 & sex <= 0.5  & address > 0.5 & famsup <= 0.5  [[1. 0.]]\n",
      "183 ) higher > 0.5 & school_DCHS > 0.5 & absences > 13.5 & sex <= 0.5  & address > 0.5 & famsup > 0.5 & absences <= 18.0  [[0. 2.]]\n",
      "184 ) higher > 0.5 & school_DCHS > 0.5 & absences > 13.5 & sex <= 0.5  & address > 0.5 & famsup > 0.5 & absences > 18.0 [[1. 0.]]\n",
      "185 ) higher > 0.5 & school_DCHS > 0.5 & absences > 13.5 & sex > 0.5 & freetime <= 2.5  & nursery <= 0.5  & paid <= 0.5  [[0. 1.]]\n",
      "186 ) higher > 0.5 & school_DCHS > 0.5 & absences > 13.5 & sex > 0.5 & freetime <= 2.5  & nursery <= 0.5  & paid > 0.5 [[1. 0.]]\n",
      "187 ) higher > 0.5 & school_DCHS > 0.5 & absences > 13.5 & sex > 0.5 & freetime <= 2.5  & nursery > 0.5 [[0. 8.]]\n",
      "188 ) higher > 0.5 & school_DCHS > 0.5 & absences > 13.5 & sex > 0.5 & freetime > 2.5 & age <= 16.5  & health <= 4.0  & Mjob_at_home <= 0.5  [[3. 0.]]\n",
      "189 ) higher > 0.5 & school_DCHS > 0.5 & absences > 13.5 & sex > 0.5 & freetime > 2.5 & age <= 16.5  & health <= 4.0  & Mjob_at_home > 0.5 [[0. 1.]]\n",
      "190 ) higher > 0.5 & school_DCHS > 0.5 & absences > 13.5 & sex > 0.5 & freetime > 2.5 & age <= 16.5  & health > 4.0 [[0. 3.]]\n",
      "191 ) higher > 0.5 & school_DCHS > 0.5 & absences > 13.5 & sex > 0.5 & freetime > 2.5 & age > 16.5 & absences <= 19.5  [[6. 0.]]\n",
      "192 ) higher > 0.5 & school_DCHS > 0.5 & absences > 13.5 & sex > 0.5 & freetime > 2.5 & age > 16.5 & absences > 19.5 & absences <= 21.5  [[0. 1.]]\n",
      "193 ) higher > 0.5 & school_DCHS > 0.5 & absences > 13.5 & sex > 0.5 & freetime > 2.5 & age > 16.5 & absences > 19.5 & absences > 21.5 & reason_reputation <= 0.5  [[2. 0.]]\n",
      "194 ) higher > 0.5 & school_DCHS > 0.5 & absences > 13.5 & sex > 0.5 & freetime > 2.5 & age > 16.5 & absences > 19.5 & absences > 21.5 & reason_reputation > 0.5 [[0. 1.]]\n"
     ]
    }
   ],
   "source": [
    "# Task 2.1.b \n",
    "# Decision Rules\n",
    "# Code provided by paulkernfeld, stackoverflow\n",
    "from sklearn.tree import _tree\n",
    "def tree_to_code(tree, feature_names, Y):\n",
    "    tree_ = tree.tree_\n",
    "    feature_name = [\n",
    "        feature_names[i] if i != _tree.TREE_UNDEFINED else \"undefined!\"\n",
    "        for i in tree_.feature\n",
    "    ]\n",
    "    pathto=dict()\n",
    "\n",
    "    global k\n",
    "    k = 0\n",
    "    def recurse(node, depth, parent):\n",
    "        global k\n",
    "        indent = \"  \" * depth\n",
    "\n",
    "        if tree_.feature[node] != _tree.TREE_UNDEFINED:\n",
    "            name = feature_name[node]\n",
    "            threshold = tree_.threshold[node]\n",
    "            s= \"{} <= {} \".format( name, threshold, node )\n",
    "            if node == 0:\n",
    "                pathto[node]=s\n",
    "            else:\n",
    "                pathto[node]=pathto[parent]+' & ' +s\n",
    "\n",
    "            recurse(tree_.children_left[node], depth + 1, node)\n",
    "            s=\"{} > {}\".format( name, threshold)\n",
    "            if node == 0:\n",
    "                pathto[node]=s\n",
    "            else:\n",
    "                pathto[node]=pathto[parent]+' & ' +s\n",
    "            recurse(tree_.children_right[node], depth + 1, node)\n",
    "        else:\n",
    "            k=k+1\n",
    "            print(k,')',pathto[parent], tree_.value[node])\n",
    "    recurse(0, 1, 0)\n",
    "\n",
    "tree_to_code(model, x.columns, y)"
   ]
  },
  {
   "cell_type": "code",
   "execution_count": 48,
   "metadata": {},
   "outputs": [
    {
     "name": "stdout",
     "output_type": "stream",
     "text": [
      "Wide search to find optimal depth and leaf range:\n",
      "\n",
      "Train accuracy: 0.7219178082191781\n",
      "Test accuracy: 0.6592356687898089\n",
      "             precision    recall  f1-score   support\n",
      "\n",
      "          0       0.54      0.50      0.52       115\n",
      "          1       0.72      0.75      0.74       199\n",
      "\n",
      "avg / total       0.65      0.66      0.66       314\n",
      "\n",
      "{'criterion': 'gini', 'max_depth': 6, 'min_samples_leaf': 30}\n",
      "\n",
      "\n",
      "\n",
      "Specified search to find optimal depth and leaf:\n",
      "\n",
      "Train accuracy: 0.7178082191780822\n",
      "Test accuracy: 0.643312101910828\n",
      "             precision    recall  f1-score   support\n",
      "\n",
      "          0       0.51      0.51      0.51       115\n",
      "          1       0.72      0.72      0.72       199\n",
      "\n",
      "avg / total       0.64      0.64      0.64       314\n",
      "\n",
      "{'criterion': 'entropy', 'max_depth': 6, 'min_samples_leaf': 34}\n",
      "higher : 0.3133028333660085\n",
      "school_DCHS : 0.131807588885754\n",
      "absences : 0.11448145286961198\n",
      "Fedu : 0.1088873310214518\n",
      "traveltime : 0.07112199333165148\n"
     ]
    },
    {
     "ename": "TypeError",
     "evalue": "'Dot' object does not support indexing",
     "output_type": "error",
     "traceback": [
      "\u001b[1;31m---------------------------------------------------------------------------\u001b[0m",
      "\u001b[1;31mTypeError\u001b[0m                                 Traceback (most recent call last)",
      "\u001b[1;32m<ipython-input-48-c6ef501e98fc>\u001b[0m in \u001b[0;36m<module>\u001b[1;34m()\u001b[0m\n\u001b[0;32m     34\u001b[0m \u001b[1;31m# print the feature importance and save the decision tree\u001b[0m\u001b[1;33m\u001b[0m\u001b[1;33m\u001b[0m\u001b[0m\n\u001b[0;32m     35\u001b[0m \u001b[0manalyse_feature_importance\u001b[0m\u001b[1;33m(\u001b[0m\u001b[0mcv\u001b[0m\u001b[1;33m.\u001b[0m\u001b[0mbest_estimator_\u001b[0m\u001b[1;33m,\u001b[0m \u001b[0mx\u001b[0m\u001b[1;33m.\u001b[0m\u001b[0mcolumns\u001b[0m\u001b[1;33m,\u001b[0m \u001b[1;36m5\u001b[0m\u001b[1;33m)\u001b[0m\u001b[1;33m\u001b[0m\u001b[0m\n\u001b[1;32m---> 36\u001b[1;33m \u001b[0mvisualize_decision_tree\u001b[0m\u001b[1;33m(\u001b[0m\u001b[0mcv\u001b[0m\u001b[1;33m.\u001b[0m\u001b[0mbest_estimator_\u001b[0m\u001b[1;33m,\u001b[0m \u001b[0mx\u001b[0m\u001b[1;33m.\u001b[0m\u001b[0mcolumns\u001b[0m\u001b[1;33m,\u001b[0m \u001b[1;34m\"optimal_decision.png\"\u001b[0m\u001b[1;33m)\u001b[0m\u001b[1;33m\u001b[0m\u001b[0m\n\u001b[0m",
      "\u001b[1;32m<ipython-input-6-e11d7ac79424>\u001b[0m in \u001b[0;36mvisualize_decision_tree\u001b[1;34m(dm_model, feature_names, save_name)\u001b[0m\n\u001b[0;32m     15\u001b[0m     \u001b[0mexport_graphviz\u001b[0m\u001b[1;33m(\u001b[0m\u001b[0mdm_model\u001b[0m\u001b[1;33m,\u001b[0m \u001b[0mout_file\u001b[0m\u001b[1;33m=\u001b[0m\u001b[0mdotfile\u001b[0m\u001b[1;33m,\u001b[0m \u001b[0mfeature_names\u001b[0m\u001b[1;33m=\u001b[0m\u001b[0mfeature_names\u001b[0m\u001b[1;33m)\u001b[0m\u001b[1;33m\u001b[0m\u001b[0m\n\u001b[0;32m     16\u001b[0m     \u001b[0mgraph\u001b[0m \u001b[1;33m=\u001b[0m \u001b[0mpydot\u001b[0m\u001b[1;33m.\u001b[0m\u001b[0mgraph_from_dot_data\u001b[0m\u001b[1;33m(\u001b[0m\u001b[0mdotfile\u001b[0m\u001b[1;33m.\u001b[0m\u001b[0mgetvalue\u001b[0m\u001b[1;33m(\u001b[0m\u001b[1;33m)\u001b[0m\u001b[1;33m)\u001b[0m\u001b[1;33m\u001b[0m\u001b[0m\n\u001b[1;32m---> 17\u001b[1;33m     \u001b[0mgraph\u001b[0m\u001b[1;33m[\u001b[0m\u001b[1;36m0\u001b[0m\u001b[1;33m]\u001b[0m\u001b[1;33m.\u001b[0m\u001b[0mwrite_png\u001b[0m\u001b[1;33m(\u001b[0m\u001b[0msave_name\u001b[0m\u001b[1;33m)\u001b[0m \u001b[1;31m# saved in the following file CHANGED TO ACCESS INDEX\u001b[0m\u001b[1;33m\u001b[0m\u001b[0m\n\u001b[0m",
      "\u001b[1;31mTypeError\u001b[0m: 'Dot' object does not support indexing"
     ]
    }
   ],
   "source": [
    "# Task 2.2\n",
    "print(\"Wide search to find optimal depth and leaf range:\\n\")\n",
    "# grid search CV 1\n",
    "params = {'criterion': ['gini', 'entropy'],\n",
    " 'max_depth': range(2, 10),\n",
    " 'min_samples_leaf': range(20, 60, 10)}\n",
    "cv = GridSearchCV(param_grid=params, estimator=DecisionTreeClassifier(random_state=rs),cv=10)\n",
    "cv.fit(x_train, y_train)\n",
    "print(\"Train accuracy:\", cv.score(x_train, y_train))\n",
    "print(\"Test accuracy:\", cv.score(x_test, y_test))\n",
    "# test the best model\n",
    "y_pred = cv.predict(x_test)\n",
    "print(classification_report(y_test, y_pred))\n",
    "# print parameters of the best model\n",
    "print(cv.best_params_)\n",
    "\n",
    "\n",
    "print(\"\\n\\n\\nSpecified search to find optimal depth and leaf:\\n\")\n",
    "# grid search CV 2\n",
    "params = {'criterion': ['gini', 'entropy'],\n",
    " 'max_depth': range(2, 10),\n",
    " 'min_samples_leaf': range(24, 37)}\n",
    "cv = GridSearchCV(param_grid=params, estimator=DecisionTreeClassifier(random_state=rs),cv=10)\n",
    "cv.fit(x_train, y_train)\n",
    "tree_optimal = cv.best_estimator_\n",
    "print(\"Train accuracy:\", cv.score(x_train, y_train))\n",
    "print(\"Test accuracy:\", cv.score(x_test, y_test))\n",
    "# test the best model\n",
    "y_pred = cv.predict(x_test)\n",
    "print(classification_report(y_test, y_pred))\n",
    "# print parameters of the best model\n",
    "print(cv.best_params_)\n",
    "\n",
    "# print the feature importance and save the decision tree\n",
    "analyse_feature_importance(cv.best_estimator_, x.columns, 5)\n",
    "visualize_decision_tree(cv.best_estimator_, x.columns, \"optimal_decision.png\")"
   ]
  },
  {
   "cell_type": "code",
   "execution_count": 12,
   "metadata": {},
   "outputs": [],
   "source": [
    "#\n",
    "# Start of Task 3\n",
    "#"
   ]
  },
  {
   "cell_type": "code",
   "execution_count": 13,
   "metadata": {},
   "outputs": [
    {
     "name": "stderr",
     "output_type": "stream",
     "text": [
      "C:\\Users\\longs\\Anaconda3\\lib\\site-packages\\sklearn\\utils\\validation.py:475: DataConversionWarning: Data with input dtype int64 was converted to float64 by StandardScaler.\n",
      "  warnings.warn(msg, DataConversionWarning)\n"
     ]
    }
   ],
   "source": [
    "# Task 3.1\n",
    "# Scale all data to have a mean of 0\n",
    "scaler = StandardScaler()\n",
    "x_train = scaler.fit_transform(x_train, y_train)\n",
    "x_test = scaler.transform(x_test)"
   ]
  },
  {
   "cell_type": "code",
   "execution_count": 14,
   "metadata": {},
   "outputs": [
    {
     "name": "stdout",
     "output_type": "stream",
     "text": [
      "LogisticRegression(C=1.0, class_weight=None, dual=False, fit_intercept=True,\n",
      "          intercept_scaling=1, max_iter=100, multi_class='ovr', n_jobs=1,\n",
      "          penalty='l2', random_state=10, solver='liblinear', tol=0.0001,\n",
      "          verbose=0, warm_start=False)\n",
      "\n",
      "\n",
      "\n",
      "Train accuracy: 0.7342465753424657\n",
      "Test accuracy: 0.6910828025477707\n",
      "             precision    recall  f1-score   support\n",
      "\n",
      "          0       0.60      0.46      0.52       115\n",
      "          1       0.73      0.82      0.77       199\n",
      "\n",
      "avg / total       0.68      0.69      0.68       314\n",
      "\n",
      "sex : 0.2431274764602015\n",
      "age : -0.26578375258821146\n",
      "address : -0.004342089777775582\n",
      "famsize : -0.061954211352185325\n",
      "Pstatus : -0.05565581730388714\n"
     ]
    }
   ],
   "source": [
    "# Task 3.2 default\n",
    "model = LogisticRegression(random_state=rs)\n",
    "# fit it to training data\n",
    "model.fit(x_train, y_train)\n",
    "reg_def = model\n",
    "print(reg_def)\n",
    "print(\"\\n\\n\")\n",
    "\n",
    "\n",
    "# training and test accuracy\n",
    "print(\"Train accuracy:\", model.score(x_train, y_train))\n",
    "print(\"Test accuracy:\", model.score(x_test, y_test))\n",
    "# classification report on test data\n",
    "y_pred = model.predict(x_test)\n",
    "print(classification_report(y_test, y_pred))\n",
    "\n",
    "\n",
    "feature_names = x.columns\n",
    "coef = model.coef_[0]\n",
    "# limit to 5 features\n",
    "coef = coef[:5]\n",
    "for i in range(len(coef)):\n",
    "    print(feature_names[i], ':', coef[i])"
   ]
  },
  {
   "cell_type": "code",
   "execution_count": 15,
   "metadata": {},
   "outputs": [
    {
     "name": "stdout",
     "output_type": "stream",
     "text": [
      "LogisticRegression(C=0.01, class_weight=None, dual=False, fit_intercept=True,\n",
      "          intercept_scaling=1, max_iter=100, multi_class='ovr', n_jobs=1,\n",
      "          penalty='l2', random_state=10, solver='liblinear', tol=0.0001,\n",
      "          verbose=0, warm_start=False)\n",
      "\n",
      "\n",
      "\n",
      "Train accuracy: 0.7342465753424657\n",
      "Test accuracy: 0.6847133757961783\n",
      "             precision    recall  f1-score   support\n",
      "\n",
      "          0       0.59      0.46      0.52       115\n",
      "          1       0.72      0.81      0.77       199\n",
      "\n",
      "avg / total       0.67      0.68      0.67       314\n",
      "\n",
      "{'C': 0.01}\n",
      "\n",
      "\n",
      "\n",
      "higher : 0.23371581544712633\n",
      "Fedu : 0.1642605037006509\n",
      "studytime : 0.1578461574317443\n",
      "schoolsup : -0.14956293036187407\n",
      "absences : -0.14085175238070663\n"
     ]
    }
   ],
   "source": [
    "# Taks 3.2 optimal\n",
    "# grid search CV\n",
    "params = {'C': [pow(10, x) for x in range(-8, 6)]}\n",
    "# use all cores to tune logistic regression with C parameter\n",
    "cv = GridSearchCV(param_grid=params, estimator=LogisticRegression(random_state=rs),cv=10, n_jobs=-1)\n",
    "cv.fit(x_train, y_train)\n",
    "reg_optimal = cv.best_estimator_\n",
    "print(reg_optimal)\n",
    "print(\"\\n\\n\")\n",
    "# test the best model\n",
    "print(\"Train accuracy:\", cv.score(x_train, y_train))\n",
    "print(\"Test accuracy:\", cv.score(x_test, y_test))\n",
    "y_pred = cv.predict(x_test)\n",
    "print(classification_report(y_test, y_pred))\n",
    "# print parameters of the best model\n",
    "print(cv.best_params_)\n",
    "print(\"\\n\\n\")\n",
    "\n",
    "# feature importance\n",
    "coef = cv.best_estimator_.coef_[0]\n",
    "feature_names = x.columns\n",
    "# sort them out in descending order\n",
    "indices = np.argsort(np.absolute(coef))\n",
    "indices = np.flip(indices, axis=0)\n",
    "# limit to 5 features\n",
    "indices = indices[:5]\n",
    "for i in indices:\n",
    "    print(feature_names[i], ':', coef[i])\n"
   ]
  },
  {
   "cell_type": "code",
   "execution_count": 16,
   "metadata": {},
   "outputs": [],
   "source": [
    "#\n",
    "# Reasoning for log transformation\n",
    "#"
   ]
  },
  {
   "cell_type": "code",
   "execution_count": 17,
   "metadata": {},
   "outputs": [
    {
     "data": {
      "text/plain": [
       "<Figure size 1000x1000 with 12 Axes>"
      ]
     },
     "metadata": {},
     "output_type": "display_data"
    }
   ],
   "source": [
    "import seaborn as sns\n",
    "import matplotlib.pyplot as plt\n",
    "def plot_skewed_columns(df):\n",
    "    # setting up subplots for easier visualisation\n",
    "    f, axes = plt.subplots(2,6, figsize=(10,10), sharex=False)\n",
    "    # gift avg plots\n",
    "    sns.distplot(df['age'].dropna(), hist=False, ax=axes[0,0])\n",
    "    sns.distplot(df['absences'].dropna(), hist=False, ax=axes[0,1])\n",
    "    sns.distplot(df['Medu'].dropna(), hist=False, ax=axes[0,2])\n",
    "    sns.distplot(df['Fedu'].dropna(), hist=False, ax=axes[0,3])\n",
    "    sns.distplot(df['traveltime'].dropna(), hist=False, ax=axes[0,4])\n",
    "    sns.distplot(df['studytime'].dropna(), hist=False, ax=axes[0,5])\n",
    "    sns.distplot(df['famrel'].dropna(), hist=False, ax=axes[1,0])\n",
    "    sns.distplot(df['freetime'].dropna(), hist=False, ax=axes[1,1])\n",
    "    sns.distplot(df['goout'].dropna(), hist=False, ax=axes[1,2])\n",
    "    sns.distplot(df['Dalc'].dropna(), hist=False, ax=axes[1,3])\n",
    "    sns.distplot(df['Walc'].dropna(), hist=False, ax=axes[1,4])\n",
    "    sns.distplot(df['health'].dropna(), hist=False, ax=axes[1,5])\n",
    "    plt.show()\n",
    "\n",
    "plot_skewed_columns(df)"
   ]
  },
  {
   "cell_type": "code",
   "execution_count": 18,
   "metadata": {},
   "outputs": [
    {
     "data": {
      "image/png": "[encoded data removed]",
      "text/plain": [
       "<Figure size 720x720 with 12 Axes>"
      ]
     },
     "metadata": {},
     "output_type": "display_data"
    }
   ],
   "source": [
    "import numpy as np\n",
    "# list columns to be transformed\n",
    "columns_to_transform = ['absences', 'age', 'traveltime', 'studytime', 'famrel', 'Dalc', 'Walc', 'health']\n",
    "# copy the dataframe\n",
    "df_log = df.copy()\n",
    "# transform the columns with np.log\n",
    "for col in columns_to_transform:\n",
    "    df_log[col] = df_log[col].apply(lambda x: x+1)\n",
    "    df_log[col] = df_log[col].apply(np.log)\n",
    "# plot them again to show the distribution\n",
    "plot_skewed_columns(df_log)"
   ]
  },
  {
   "cell_type": "code",
   "execution_count": 19,
   "metadata": {},
   "outputs": [
    {
     "name": "stderr",
     "output_type": "stream",
     "text": [
      "C:\\Users\\longs\\Anaconda3\\lib\\site-packages\\ipykernel_launcher.py:3: FutureWarning: Method .as_matrix will be removed in a future version. Use .values instead.\n",
      "  This is separate from the ipykernel package so we can avoid doing imports until\n"
     ]
    },
    {
     "name": "stdout",
     "output_type": "stream",
     "text": [
      "Train accuracy: 0.7301369863013699\n",
      "Test accuracy: 0.6656050955414012\n",
      "             precision    recall  f1-score   support\n",
      "\n",
      "          0       0.56      0.43      0.48       115\n",
      "          1       0.71      0.80      0.75       199\n",
      "\n",
      "avg / total       0.65      0.67      0.65       314\n",
      "\n",
      "{'C': 0.1}\n"
     ]
    }
   ],
   "source": [
    "y_log = df_log['G3']\n",
    "x_log = df_log.drop(['G3'], axis=1)\n",
    "x_mat_log = x_log.as_matrix()\n",
    "x_train_log, x_test_log, y_train_log, y_test_log = train_test_split(x_mat_log, y_log, test_size=0.3, \n",
    "                                                                    stratify=y_log, random_state=rs)\n",
    "# standardise them again\n",
    "scaler_log = StandardScaler()\n",
    "x_train_log = scaler_log.fit_transform(x_train_log, y_train_log)\n",
    "x_test_log = scaler_log.transform(x_test_log)\n",
    "\n",
    "# grid search CV\n",
    "params = {'C': [pow(10, x) for x in range(-6, 4)]}\n",
    "cv = GridSearchCV(param_grid=params, estimator=LogisticRegression(random_state=rs),\n",
    "cv=10, n_jobs=-1)\n",
    "cv.fit(x_train_log, y_train_log)\n",
    "\n",
    "reg_log = cv.best_estimator_\n",
    "\n",
    "# test the best model\n",
    "print(\"Train accuracy:\", cv.score(x_train_log, y_train_log))\n",
    "print(\"Test accuracy:\", cv.score(x_test_log, y_test_log))\n",
    "\n",
    "y_pred = cv.predict(x_test_log)\n",
    "print(classification_report(y_test_log, y_pred))\n",
    "\n",
    "# print parameters of the best model\n",
    "print(cv.best_params_)"
   ]
  },
  {
   "cell_type": "code",
   "execution_count": 20,
   "metadata": {},
   "outputs": [],
   "source": [
    "#\n",
    "# Log transformations decrease accuracy and therefore are not being implemented for optimal solution\n",
    "#"
   ]
  },
  {
   "cell_type": "code",
   "execution_count": 21,
   "metadata": {},
   "outputs": [
    {
     "name": "stdout",
     "output_type": "stream",
     "text": [
      "Original feature set 42\n",
      "Number of features after elimination 8\n",
      "\n",
      "\n",
      "Train accuracy: 0.7246575342465753\n",
      "Test accuracy: 0.7038216560509554\n",
      "             precision    recall  f1-score   support\n",
      "\n",
      "          0       0.65      0.41      0.50       115\n",
      "          1       0.72      0.87      0.79       199\n",
      "\n",
      "avg / total       0.69      0.70      0.68       314\n",
      "\n",
      "{'C': 0.01}\n",
      "\n",
      "\n",
      "\n",
      "Pstatus : 0.25954544916308686\n",
      "age : 0.20186423266937298\n",
      "traveltime : 0.18888114692732919\n",
      "address : 0.1647436010725625\n",
      "Medu : -0.15674241032230216\n",
      "famsize : -0.14083837845407723\n",
      "sex : -0.13913099704037202\n",
      "Fedu : -0.1287181174041425\n"
     ]
    }
   ],
   "source": [
    "# Task 3.3\n",
    "from sklearn.feature_selection import RFECV\n",
    "rfe = RFECV(estimator = LogisticRegression(random_state=rs), cv=10)\n",
    "rfe.fit(x_train, y_train) # run the RFECV\n",
    "# comparing how many variables before and after\n",
    "print(\"Original feature set\", x_train.shape[1])\n",
    "print(\"Number of features after elimination\", rfe.n_features_)\n",
    "print(\"\\n\")\n",
    "\n",
    "x_train_sel = rfe.transform(x_train)\n",
    "x_test_sel = rfe.transform(x_test)\n",
    "\n",
    "# grid search CV\n",
    "params = {'C': [pow(10, x) for x in range(-6, 4)]}\n",
    "cv = GridSearchCV(param_grid=params, estimator=LogisticRegression(random_state=rs),\n",
    "cv=10, n_jobs=-1)\n",
    "cv.fit(x_train_sel, y_train)\n",
    "reg_rfe = cv.best_estimator_\n",
    "# test the best model\n",
    "print(\"Train accuracy:\", cv.score(x_train_sel, y_train))\n",
    "print(\"Test accuracy:\", cv.score(x_test_sel, y_test))\n",
    "y_pred = cv.predict(x_test_sel)\n",
    "print(classification_report(y_test, y_pred))\n",
    "# print parameters of the best model\n",
    "print(cv.best_params_)\n",
    "print(\"\\n\\n\")\n",
    "\n",
    "# feature importance\n",
    "coef = cv.best_estimator_.coef_[0]\n",
    "feature_names = x.columns\n",
    "# sort them out in descending order\n",
    "indices = np.argsort(np.absolute(coef))\n",
    "indices = np.flip(indices, axis=0)\n",
    "# dont limit so to see what variables are remaining\n",
    "for i in indices:\n",
    "    print(feature_names[i], ':', coef[i])"
   ]
  },
  {
   "cell_type": "code",
   "execution_count": 22,
   "metadata": {},
   "outputs": [
    {
     "name": "stdout",
     "output_type": "stream",
     "text": [
      "Original feature set 42\n",
      "Number of features after elimination 36\n",
      "Train accuracy: 0.7232876712328767\n",
      "Test accuracy: 0.6624203821656051\n",
      "             precision    recall  f1-score   support\n",
      "\n",
      "          0       0.55      0.43      0.49       115\n",
      "          1       0.71      0.79      0.75       199\n",
      "\n",
      "avg / total       0.65      0.66      0.65       314\n",
      "\n",
      "{'C': 0.01}\n"
     ]
    }
   ],
   "source": [
    "# running RFE + log transformation\n",
    "rfe = RFECV(estimator = LogisticRegression(random_state=rs), cv=10)\n",
    "rfe.fit(x_train_log, y_train_log) # run the RFECV on log transformed dataset\n",
    "# comparing how many variables before and after\n",
    "print(\"Original feature set\", x_train_log.shape[1])\n",
    "print(\"Number of features after elimination\", rfe.n_features_)\n",
    "# select features from log transformed dataset\n",
    "x_train_sel_log = rfe.transform(x_train_log)\n",
    "x_test_sel_log = rfe.transform(x_test_log)\n",
    "# init grid search CV on transformed dataset\n",
    "params = {'C': [pow(10, x) for x in range(-6, 4)]}\n",
    "cv = GridSearchCV(param_grid=params, estimator=LogisticRegression(random_state=rs),\n",
    "cv=10, n_jobs=-1)\n",
    "cv.fit(x_train_sel_log, y_train_log)\n",
    "reg_rfe_log = cv.best_estimator_\n",
    "# test the best model\n",
    "print(\"Train accuracy:\", cv.score(x_train_sel_log, y_train_log))\n",
    "print(\"Test accuracy:\", cv.score(x_test_sel_log, y_test_log))\n",
    "y_pred_log = cv.predict(x_test_sel_log)\n",
    "print(classification_report(y_test_log, y_pred_log))\n",
    "# print parameters of the best model\n",
    "print(cv.best_params_)"
   ]
  },
  {
   "cell_type": "code",
   "execution_count": 23,
   "metadata": {},
   "outputs": [
    {
     "name": "stdout",
     "output_type": "stream",
     "text": [
      "Accuracy score on test for default regression: 0.6910828025477707\n",
      "Accuracy score on test for GridSearchCV regression: 0.6847133757961783\n",
      "Accuracy score on test for logged GridSearchCV regression: 0.6687898089171974\n",
      "Accuracy score on test for RFE GridSearchCV regression: 0.7038216560509554\n",
      "Accuracy score on test for logged RFE GridSearchCV regression: 0.6624203821656051\n"
     ]
    }
   ],
   "source": [
    "y_reg_def = reg_def.predict(x_test)\n",
    "y_reg_optimal = reg_optimal.predict(x_test)\n",
    "y_reg_log = reg_log.predict(x_test)\n",
    "y_reg_rfe = reg_rfe.predict(x_test_sel)\n",
    "y_reg_rfe_log = reg_rfe_log.predict(x_test_sel_log)\n",
    "print(\"Accuracy score on test for default regression:\", accuracy_score(y_test, y_reg_def))\n",
    "print(\"Accuracy score on test for GridSearchCV regression:\", accuracy_score(y_test, y_reg_optimal))\n",
    "print(\"Accuracy score on test for logged GridSearchCV regression:\", accuracy_score(y_test, y_reg_log))\n",
    "print(\"Accuracy score on test for RFE GridSearchCV regression:\", accuracy_score(y_test, y_reg_rfe))\n",
    "print(\"Accuracy score on test for logged RFE GridSearchCV regression:\", accuracy_score(y_test, y_reg_rfe_log))"
   ]
  },
  {
   "cell_type": "code",
   "execution_count": 24,
   "metadata": {},
   "outputs": [
    {
     "name": "stdout",
     "output_type": "stream",
     "text": [
      "ROC index on test for default regression: 0.6760323355909985\n",
      "ROC index on test for GridSearchCV regression: 0.6783919597989949\n",
      "ROC index on test for logged GridSearchCV regression: 0.6728424732357441\n",
      "ROC index on test for RFE GridSearchCV regression: 0.6874371859296482\n",
      "ROC index on test for logged RFE GridSearchCV regression: 0.6759012453572208\n"
     ]
    }
   ],
   "source": [
    "from sklearn.metrics import roc_auc_score\n",
    "y_proba_reg_def = reg_def.predict_proba(x_test)\n",
    "y_proba_reg_optimal = reg_optimal.predict_proba(x_test)\n",
    "y_proba_reg_log = reg_log.predict_proba(x_test)\n",
    "y_proba_reg_rfe = reg_rfe.predict_proba(x_test_sel)\n",
    "y_proba_reg_rfe_log = reg_rfe_log.predict_proba(x_test_sel_log)\n",
    "\n",
    "roc_index_reg_def = roc_auc_score(y_test, y_proba_reg_def[:, 1])\n",
    "roc_index_reg_optimal = roc_auc_score(y_test, y_proba_reg_optimal[:, 1])\n",
    "roc_index_reg_log = roc_auc_score(y_test, y_proba_reg_log[:, 1])\n",
    "roc_index_reg_rfe = roc_auc_score(y_test, y_proba_reg_rfe[:, 1])\n",
    "roc_index_reg_rfe_log = roc_auc_score(y_test, y_proba_reg_rfe_log[:, 1])\n",
    "\n",
    "print(\"ROC index on test for default regression:\", roc_index_reg_def)\n",
    "print(\"ROC index on test for GridSearchCV regression:\", roc_index_reg_optimal)\n",
    "print(\"ROC index on test for logged GridSearchCV regression:\", roc_index_reg_log)\n",
    "print(\"ROC index on test for RFE GridSearchCV regression:\", roc_index_reg_rfe)\n",
    "print(\"ROC index on test for logged RFE GridSearchCV regression:\", roc_index_reg_rfe_log)"
   ]
  },
  {
   "cell_type": "code",
   "execution_count": 25,
   "metadata": {},
   "outputs": [
    {
     "data": {
      "image/png": "[encoded data removed]",
      "text/plain": [
       "<Figure size 432x288 with 1 Axes>"
      ]
     },
     "metadata": {},
     "output_type": "display_data"
    }
   ],
   "source": [
    "from sklearn.metrics import roc_curve\n",
    "fpr_reg_def, tpr_reg_def, thresholds_reg_def = roc_curve(y_test, y_proba_reg_def[:,1])\n",
    "fpr_reg_optimal, tpr_reg_optimal, thresholds_reg_optimal = roc_curve(y_test, y_proba_reg_optimal[:,1])\n",
    "fpr_reg_log, tpr_reg_log, thresholds_reg_log = roc_curve(y_test, y_proba_reg_log[:,1])\n",
    "fpr_reg_rfe, tpr_reg_rfe, thresholds_reg_rfe = roc_curve(y_test, y_proba_reg_rfe[:,1])\n",
    "fpr_reg_rfe_log, tpr_reg_rfe_log, thresholds_reg_rfe_log = roc_curve(y_test, y_proba_reg_rfe_log[:,1])\n",
    "\n",
    "import matplotlib.pyplot as plt\n",
    "\n",
    "plt.plot(fpr_reg_def, tpr_reg_def, label='ROC Curve for def reg {:.3f}'.format(roc_index_reg_def), color='red', lw=0.5)\n",
    "plt.plot(fpr_reg_optimal, tpr_reg_optimal, label='ROC Curve for CV reg {:.3f}'.format(roc_index_reg_optimal), color='green', lw=0.5)\n",
    "plt.plot(fpr_reg_log, tpr_reg_log, label='ROC Curve for log reg {:.3f}'.format(roc_index_reg_log), color='darkorange', lw=0.5)\n",
    "plt.plot(fpr_reg_rfe, tpr_reg_rfe, label='ROC Curve for rfe reg {:.3f}'.format(roc_index_reg_rfe), color='yellow', lw=0.5)\n",
    "plt.plot(fpr_reg_rfe_log, tpr_reg_rfe_log, label='ROC Curve for log rfe reg {:.3f}'.format(roc_index_reg_rfe_log), color='blue', lw=0.5)\n",
    "\n",
    "# plt.plot(fpr[2], tpr[2], color='darkorange',\n",
    "# lw=lw, label='ROC curve (area = %0.2f)' % roc_auc[2])\n",
    "plt.plot([0, 1], [0, 1], color='navy', lw=0.5, linestyle='--')\n",
    "plt.xlim([0.0, 1.0])\n",
    "plt.ylim([0.0, 1.0])\n",
    "plt.xlabel('False Positive Rate')\n",
    "plt.ylabel('True Positive Rate')\n",
    "plt.title('Receiver operating characteristic')\n",
    "plt.legend(loc=\"lower right\")\n",
    "plt.show()"
   ]
  },
  {
   "cell_type": "code",
   "execution_count": 27,
   "metadata": {},
   "outputs": [],
   "source": [
    "#\n",
    "# Start of Task 4\n",
    "#"
   ]
  },
  {
   "cell_type": "code",
   "execution_count": 28,
   "metadata": {},
   "outputs": [
    {
     "name": "stderr",
     "output_type": "stream",
     "text": [
      "C:\\Users\\longs\\Anaconda3\\lib\\site-packages\\ipykernel_launcher.py:11: FutureWarning: Method .as_matrix will be removed in a future version. Use .values instead.\n",
      "  # This is added back by InteractiveShellApp.init_path()\n",
      "C:\\Users\\longs\\Anaconda3\\lib\\site-packages\\sklearn\\utils\\validation.py:475: DataConversionWarning: Data with input dtype int64 was converted to float64 by StandardScaler.\n",
      "  warnings.warn(msg, DataConversionWarning)\n",
      "C:\\Users\\longs\\Anaconda3\\lib\\site-packages\\sklearn\\utils\\validation.py:475: DataConversionWarning: Data with input dtype int64 was converted to float64 by StandardScaler.\n",
      "  warnings.warn(msg, DataConversionWarning)\n",
      "C:\\Users\\longs\\Anaconda3\\lib\\site-packages\\sklearn\\utils\\validation.py:475: DataConversionWarning: Data with input dtype int64 was converted to float64 by StandardScaler.\n",
      "  warnings.warn(msg, DataConversionWarning)\n",
      "C:\\Users\\longs\\Anaconda3\\lib\\site-packages\\ipykernel_launcher.py:19: FutureWarning: Method .as_matrix will be removed in a future version. Use .values instead.\n",
      "C:\\Users\\longs\\Anaconda3\\lib\\site-packages\\sklearn\\utils\\validation.py:475: DataConversionWarning: Data with input dtype int64 was converted to float64 by StandardScaler.\n",
      "  warnings.warn(msg, DataConversionWarning)\n",
      "C:\\Users\\longs\\Anaconda3\\lib\\site-packages\\sklearn\\utils\\validation.py:475: DataConversionWarning: Data with input dtype int64 was converted to float64 by StandardScaler.\n",
      "  warnings.warn(msg, DataConversionWarning)\n",
      "C:\\Users\\longs\\Anaconda3\\lib\\site-packages\\sklearn\\utils\\validation.py:475: DataConversionWarning: Data with input dtype int64 was converted to float64 by StandardScaler.\n",
      "  warnings.warn(msg, DataConversionWarning)\n"
     ]
    }
   ],
   "source": [
    "# Task 4 Prep\n",
    "# Reset and scale vals\n",
    "columns_to_transform = ['absences', 'age']\n",
    "df_log = df.copy()\n",
    "# transform the columns with np.log\n",
    "for col in columns_to_transform:\n",
    "    df_log[col] = df_log[col].apply(lambda x: x+1)\n",
    "    df_log[col] = df_log[col].apply(np.log)\n",
    "y_log = df['G3']\n",
    "x_log = df.drop(['G3'], axis=1)\n",
    "x_mat_log = x.as_matrix()\n",
    "x_train_log, x_test_log, y_train_log, y_test_log = train_test_split(x_mat_log, y_log, test_size=0.3, stratify=y, random_state=rs)\n",
    "scaler = StandardScaler()\n",
    "x_train_log = scaler.fit_transform(x_train_log, y_train_log)\n",
    "x_test_log = scaler.transform(x_test_log)\n",
    "\n",
    "y = df['G3']\n",
    "x = df.drop(['G3'], axis=1)\n",
    "x_mat = x.as_matrix()\n",
    "x_train, x_test, y_train, y_test = train_test_split(x_mat, y, test_size=0.3, stratify=y, random_state=rs)\n",
    "scaler = StandardScaler()\n",
    "x_train = scaler.fit_transform(x_train, y_train)\n",
    "x_test = scaler.transform(x_test)"
   ]
  },
  {
   "cell_type": "code",
   "execution_count": 29,
   "metadata": {},
   "outputs": [
    {
     "name": "stdout",
     "output_type": "stream",
     "text": [
      "Using normal test and train\n",
      "Train accuracy: 0.9904109589041096\n",
      "Test accuracy: 0.6656050955414012\n",
      "             precision    recall  f1-score   support\n",
      "\n",
      "          0       0.54      0.53      0.54       115\n",
      "          1       0.73      0.74      0.74       199\n",
      "\n",
      "avg / total       0.66      0.67      0.66       314\n",
      "\n",
      "MLPClassifier(activation='relu', alpha=0.0001, batch_size='auto', beta_1=0.9,\n",
      "       beta_2=0.999, early_stopping=False, epsilon=1e-08,\n",
      "       hidden_layer_sizes=(100,), learning_rate='constant',\n",
      "       learning_rate_init=0.001, max_iter=327, momentum=0.9,\n",
      "       nesterovs_momentum=True, power_t=0.5, random_state=10, shuffle=True,\n",
      "       solver='adam', tol=0.0001, validation_fraction=0.1, verbose=False,\n",
      "       warm_start=False)\n",
      "Using log test and train\n",
      "Train accuracy: 0.9904109589041096\n",
      "Test accuracy: 0.6656050955414012\n",
      "             precision    recall  f1-score   support\n",
      "\n",
      "          0       0.54      0.53      0.54       115\n",
      "          1       0.73      0.74      0.74       199\n",
      "\n",
      "avg / total       0.66      0.67      0.66       314\n",
      "\n",
      "MLPClassifier(activation='relu', alpha=0.0001, batch_size='auto', beta_1=0.9,\n",
      "       beta_2=0.999, early_stopping=False, epsilon=1e-08,\n",
      "       hidden_layer_sizes=(100,), learning_rate='constant',\n",
      "       learning_rate_init=0.001, max_iter=327, momentum=0.9,\n",
      "       nesterovs_momentum=True, power_t=0.5, random_state=10, shuffle=True,\n",
      "       solver='adam', tol=0.0001, validation_fraction=0.1, verbose=False,\n",
      "       warm_start=False)\n"
     ]
    }
   ],
   "source": [
    "# Task 4.1.a\n",
    "# NN with default settings\n",
    "# Given that the network cant converge with max_iter=200 set to best val so reasonable outputs obtained\n",
    "from sklearn.neural_network import MLPClassifier\n",
    "model = MLPClassifier(max_iter=327, random_state=rs)\n",
    "model.fit(x_train, y_train)\n",
    "print('Using normal test and train')\n",
    "print(\"Train accuracy:\", model.score(x_train, y_train))\n",
    "print(\"Test accuracy:\", model.score(x_test, y_test))\n",
    "y_pred = model.predict(x_test)\n",
    "print(classification_report(y_test, y_pred))\n",
    "print(model)\n",
    "\n",
    "print('Using log test and train')\n",
    "from sklearn.neural_network import MLPClassifier\n",
    "NND_model = MLPClassifier(max_iter=327, random_state=rs)\n",
    "NND_model.fit(x_train_log, y_train)\n",
    "\n",
    "print(\"Train accuracy:\", NND_model.score(x_train_log, y_train_log))\n",
    "print(\"Test accuracy:\", NND_model.score(x_test_log, y_test_log))\n",
    "y_pred_log = NND_model.predict(x_test_log)\n",
    "print(classification_report(y_test_log, y_pred_log))\n",
    "print(NND_model)"
   ]
  },
  {
   "cell_type": "code",
   "execution_count": 30,
   "metadata": {},
   "outputs": [
    {
     "name": "stdout",
     "output_type": "stream",
     "text": [
      "Train accuracy: 0.7945205479452054\n",
      "Test accuracy: 0.6687898089171974\n",
      "             precision    recall  f1-score   support\n",
      "\n",
      "          0       0.56      0.47      0.51       115\n",
      "          1       0.72      0.78      0.75       199\n",
      "\n",
      "avg / total       0.66      0.67      0.66       314\n",
      "\n",
      "{'hidden_layer_sizes': (3,)}\n"
     ]
    }
   ],
   "source": [
    "# Task 4.1.b\n",
    "# NN with GridSearchCV settings\n",
    "params = {'hidden_layer_sizes': [(x,) for x in range(3, 43, 20)]}\n",
    "cv = GridSearchCV(param_grid=params, estimator=MLPClassifier(max_iter=591, random_state=rs), cv=10, n_jobs=-1)\n",
    "cv.fit(x_train, y_train)\n",
    "print(\"Train accuracy:\", cv.score(x_train, y_train))\n",
    "print(\"Test accuracy:\", cv.score(x_test, y_test))\n",
    "y_pred = cv.predict(x_test)\n",
    "print(classification_report(y_test, y_pred))\n",
    "print(cv.best_params_)"
   ]
  },
  {
   "cell_type": "code",
   "execution_count": 31,
   "metadata": {},
   "outputs": [
    {
     "name": "stdout",
     "output_type": "stream",
     "text": [
      "Train accuracy: 0.7945205479452054\n",
      "Test accuracy: 0.6687898089171974\n",
      "             precision    recall  f1-score   support\n",
      "\n",
      "          0       0.56      0.47      0.51       115\n",
      "          1       0.72      0.78      0.75       199\n",
      "\n",
      "avg / total       0.66      0.67      0.66       314\n",
      "\n",
      "{'hidden_layer_sizes': (3,)}\n"
     ]
    }
   ],
   "source": [
    "# Task 4.2.i\n",
    "# NN with GridSearchCV settings\n",
    "# Revolve around range 3\n",
    "params = {'hidden_layer_sizes': [(x,) for x in range(1, 13)]}\n",
    "cv = GridSearchCV(param_grid=params, estimator=MLPClassifier(max_iter=591, random_state=rs), cv=10, n_jobs=-1)\n",
    "cv.fit(x_train, y_train)\n",
    "print(\"Train accuracy:\", cv.score(x_train, y_train))\n",
    "print(\"Test accuracy:\", cv.score(x_test, y_test))\n",
    "y_pred = cv.predict(x_test)\n",
    "print(classification_report(y_test, y_pred))\n",
    "print(cv.best_params_)"
   ]
  },
  {
   "cell_type": "code",
   "execution_count": 32,
   "metadata": {},
   "outputs": [
    {
     "name": "stdout",
     "output_type": "stream",
     "text": [
      "Train accuracy: 0.7945205479452054\n",
      "Test accuracy: 0.6687898089171974\n",
      "             precision    recall  f1-score   support\n",
      "\n",
      "          0       0.55      0.46      0.50       115\n",
      "          1       0.72      0.78      0.75       199\n",
      "\n",
      "avg / total       0.66      0.67      0.66       314\n",
      "\n",
      "{'alpha': 1e-06, 'hidden_layer_sizes': 3}\n",
      "Train accuracy: 0.7945205479452054\n",
      "Test accuracy: 0.6656050955414012\n",
      "             precision    recall  f1-score   support\n",
      "\n",
      "          0       0.55      0.46      0.50       115\n",
      "          1       0.72      0.78      0.75       199\n",
      "\n",
      "avg / total       0.66      0.67      0.66       314\n",
      "\n",
      "{'alpha': 1e-06, 'hidden_layer_sizes': 3}\n"
     ]
    }
   ],
   "source": [
    "# Task 4.1.b.ii\n",
    "# NN with GridSearchCV settings\n",
    "# Find optimal alpha on range 3\n",
    "params = {'hidden_layer_sizes': [(3)], 'alpha': [0.01,0.001, 0.0001, 0.00001, 0.000001, 0.0000001, 0.00000001]}\n",
    "NNGS_cv = GridSearchCV(param_grid=params, estimator=MLPClassifier(max_iter=591, random_state=rs), cv=10, n_jobs=-1)\n",
    "NNGS_cv.fit(x_train, y_train)\n",
    "print(\"Train accuracy:\", cv.score(x_train, y_train))\n",
    "print(\"Test accuracy:\", cv.score(x_test, y_test))\n",
    "y_pred = NNGS_cv.predict(x_test)\n",
    "print(classification_report(y_test, y_pred))\n",
    "print(NNGS_cv.best_params_)\n",
    "\n",
    "params = {'hidden_layer_sizes': [(3)], 'alpha': [0.01,0.001, 0.0001, 0.00001, 0.000001, 0.0000001, 0.00000001]}\n",
    "cv = GridSearchCV(param_grid=params, estimator=MLPClassifier(max_iter=591, random_state=rs), cv=10, n_jobs=-1)\n",
    "cv.fit(x_train_log, y_train_log)\n",
    "print(\"Train accuracy:\", cv.score(x_train_log, y_train_log))\n",
    "print(\"Test accuracy:\", cv.score(x_test_log, y_test_log))\n",
    "y_pred_log = cv.predict(x_test_log)\n",
    "print(classification_report(y_test_log, y_pred_log))\n",
    "print(cv.best_params_)"
   ]
  },
  {
   "cell_type": "code",
   "execution_count": 33,
   "metadata": {},
   "outputs": [
    {
     "name": "stdout",
     "output_type": "stream",
     "text": [
      "Train accuracy: 0.7342465753424657\n",
      "Test accuracy: 0.6878980891719745\n",
      "             precision    recall  f1-score   support\n",
      "\n",
      "          0       0.61      0.42      0.49       115\n",
      "          1       0.71      0.84      0.77       199\n",
      "\n",
      "avg / total       0.68      0.69      0.67       314\n",
      "\n",
      "{'alpha': 0.01, 'hidden_layer_sizes': (12,)}\n"
     ]
    }
   ],
   "source": [
    "# Task 4.3.a\n",
    "# NN with RFE\n",
    "# non log performed better\n",
    "from sklearn.feature_selection import RFECV\n",
    "from sklearn.linear_model import LogisticRegression\n",
    "rfe = RFECV(estimator = LogisticRegression(random_state=rs), cv=10, n_jobs=-1)\n",
    "rfe.fit(x_train, y_train)\n",
    "\n",
    "x_train_rfe = rfe.transform(x_train)\n",
    "x_test_rfe = rfe.transform(x_test)\n",
    "\n",
    "params = {'hidden_layer_sizes': [(x,) for x in range(2, 63, 10)], 'alpha': [0.1, 0.01,0.001, 0.0001, 0.00001]}\n",
    "cv = GridSearchCV(param_grid=params, estimator=MLPClassifier(max_iter=250, random_state=rs), cv=10, n_jobs=-1)\n",
    "cv.fit(x_train_rfe, y_train)\n",
    "print(\"Train accuracy:\", cv.score(x_train_rfe, y_train))\n",
    "print(\"Test accuracy:\", cv.score(x_test_rfe, y_test))\n",
    "y_pred = cv.predict(x_test_rfe)\n",
    "print(classification_report(y_test, y_pred))\n",
    "print(cv.best_params_)"
   ]
  },
  {
   "cell_type": "code",
   "execution_count": 34,
   "metadata": {},
   "outputs": [
    {
     "name": "stdout",
     "output_type": "stream",
     "text": [
      "Train accuracy: 0.7342465753424657\n",
      "Test accuracy: 0.6878980891719745\n",
      "             precision    recall  f1-score   support\n",
      "\n",
      "          0       0.61      0.42      0.49       115\n",
      "          1       0.71      0.84      0.77       199\n",
      "\n",
      "avg / total       0.68      0.69      0.67       314\n",
      "\n",
      "{'alpha': 0.01, 'hidden_layer_sizes': (12,)}\n"
     ]
    }
   ],
   "source": [
    "# Task 4.3.a.i\n",
    "params = {'hidden_layer_sizes': [(x,) for x in range(2, 23, 5)], 'alpha': [0.1, 0.01,0.001, 0.0001, 0.00001]}\n",
    "cv = GridSearchCV(param_grid=params, estimator=MLPClassifier(max_iter=250, random_state=rs), cv=10, n_jobs=-1)\n",
    "cv.fit(x_train_rfe, y_train)\n",
    "print(\"Train accuracy:\", cv.score(x_train_rfe, y_train))\n",
    "print(\"Test accuracy:\", cv.score(x_test_rfe, y_test))\n",
    "y_pred = cv.predict(x_test_rfe)\n",
    "print(classification_report(y_test, y_pred))\n",
    "print(cv.best_params_)"
   ]
  },
  {
   "cell_type": "code",
   "execution_count": 35,
   "metadata": {},
   "outputs": [
    {
     "name": "stdout",
     "output_type": "stream",
     "text": [
      "Train accuracy: 0.7342465753424657\n",
      "Test accuracy: 0.6878980891719745\n",
      "             precision    recall  f1-score   support\n",
      "\n",
      "          0       0.61      0.42      0.49       115\n",
      "          1       0.71      0.84      0.77       199\n",
      "\n",
      "avg / total       0.68      0.69      0.67       314\n",
      "\n",
      "{'alpha': 0.01, 'hidden_layer_sizes': (12,)}\n"
     ]
    }
   ],
   "source": [
    "# Task 4.3.a.ii\n",
    "params = {'hidden_layer_sizes': [(x,) for x in range(10, 15)], 'alpha': [0.1, 0.01,0.001, 0.0001, 0.00001]}\n",
    "RFE_cv = GridSearchCV(param_grid=params, estimator=MLPClassifier(max_iter=250, random_state=rs), cv=10, n_jobs=-1)\n",
    "RFE_cv.fit(x_train_rfe, y_train)\n",
    "print(\"Train accuracy:\", RFE_cv.score(x_train_rfe, y_train))\n",
    "print(\"Test accuracy:\", RFE_cv.score(x_test_rfe, y_test))\n",
    "y_pred = RFE_cv.predict(x_test_rfe)\n",
    "print(classification_report(y_test, y_pred))\n",
    "print(RFE_cv.best_params_)"
   ]
  },
  {
   "cell_type": "code",
   "execution_count": 36,
   "metadata": {},
   "outputs": [
    {
     "name": "stdout",
     "output_type": "stream",
     "text": [
      "(730, 10)\n",
      "Train accuracy: 0.810958904109589\n",
      "Test accuracy: 0.6560509554140127\n",
      "             precision    recall  f1-score   support\n",
      "\n",
      "          0       0.53      0.50      0.51       115\n",
      "          1       0.72      0.75      0.73       199\n",
      "\n",
      "avg / total       0.65      0.66      0.65       314\n",
      "\n",
      "{'alpha': 0.1, 'hidden_layer_sizes': (42,)}\n"
     ]
    }
   ],
   "source": [
    "# Task 4.3.b\n",
    "# NN with DecisionTree\n",
    "from sklearn.tree import DecisionTreeClassifier\n",
    "params = {'criterion': ['entropy'],\n",
    "    'max_depth': [6],\n",
    "     'min_samples_leaf': [34]}\n",
    "cv = GridSearchCV(param_grid=params, estimator=DecisionTreeClassifier(random_state=rs), cv=10)\n",
    "cv.fit(x_train, y_train)\n",
    "from sklearn.feature_selection import SelectFromModel\n",
    "selectmodel = SelectFromModel(cv.best_estimator_, prefit=True)\n",
    "x_train_sel_model = selectmodel.transform(x_train)\n",
    "x_test_sel_model = selectmodel.transform(x_test)\n",
    "print(x_train_sel_model.shape)\n",
    "\n",
    "params = {'hidden_layer_sizes': [(x,) for x in range(2, 62, 10)], 'alpha': [0.1, 0.01,0.001, 0.0001, 0.00001]}\n",
    "cv = GridSearchCV(param_grid=params, estimator=MLPClassifier(max_iter=500, random_state=rs), cv=10, n_jobs=-1)\n",
    "cv.fit(x_train_sel_model, y_train)\n",
    "print(\"Train accuracy:\", cv.score(x_train_sel_model, y_train))\n",
    "print(\"Test accuracy:\", cv.score(x_test_sel_model, y_test))\n",
    "y_pred = cv.predict(x_test_sel_model)\n",
    "print(classification_report(y_test, y_pred))\n",
    "print(cv.best_params_)"
   ]
  },
  {
   "cell_type": "code",
   "execution_count": 37,
   "metadata": {},
   "outputs": [
    {
     "name": "stdout",
     "output_type": "stream",
     "text": [
      "Train accuracy: 0.810958904109589\n",
      "Test accuracy: 0.6560509554140127\n",
      "             precision    recall  f1-score   support\n",
      "\n",
      "          0       0.53      0.50      0.51       115\n",
      "          1       0.72      0.75      0.73       199\n",
      "\n",
      "avg / total       0.65      0.66      0.65       314\n",
      "\n",
      "{'alpha': 0.1, 'hidden_layer_sizes': (42,)}\n"
     ]
    }
   ],
   "source": [
    "# Task 4.3.b.i\n",
    "# NN with DecisionTree\n",
    "params = {'hidden_layer_sizes': [(x,) for x in range(32, 53, 5)], 'alpha': [0.1, 0.01,0.001, 0.0001, 0.00001]}\n",
    "cv = GridSearchCV(param_grid=params, estimator=MLPClassifier(max_iter=500, random_state=rs), cv=10, n_jobs=-1)\n",
    "cv.fit(x_train_sel_model, y_train)\n",
    "print(\"Train accuracy:\", cv.score(x_train_sel_model, y_train))\n",
    "print(\"Test accuracy:\", cv.score(x_test_sel_model, y_test))\n",
    "y_pred = cv.predict(x_test_sel_model)\n",
    "print(classification_report(y_test, y_pred))\n",
    "print(cv.best_params_)"
   ]
  },
  {
   "cell_type": "code",
   "execution_count": 38,
   "metadata": {},
   "outputs": [
    {
     "name": "stdout",
     "output_type": "stream",
     "text": [
      "Train accuracy: 0.7863013698630137\n",
      "Test accuracy: 0.6560509554140127\n",
      "             precision    recall  f1-score   support\n",
      "\n",
      "          0       0.53      0.49      0.51       115\n",
      "          1       0.72      0.75      0.74       199\n",
      "\n",
      "avg / total       0.65      0.66      0.65       314\n",
      "\n",
      "{'alpha': 0.1, 'hidden_layer_sizes': (41,)}\n"
     ]
    }
   ],
   "source": [
    "params = {'hidden_layer_sizes': [(x,) for x in range(38, 45)], 'alpha': [0.1, 0.01,0.001, 0.0001, 0.00001]}\n",
    "ds_cv = GridSearchCV(param_grid=params, estimator=MLPClassifier(max_iter=700, random_state=rs), cv=10, n_jobs=-1)\n",
    "ds_cv.fit(x_train_sel_model, y_train)\n",
    "print(\"Train accuracy:\", ds_cv.score(x_train_sel_model, y_train))\n",
    "print(\"Test accuracy:\", ds_cv.score(x_test_sel_model, y_test))\n",
    "y_pred = ds_cv.predict(x_test_sel_model)\n",
    "print(classification_report(y_test, y_pred))\n",
    "print(ds_cv.best_params_)"
   ]
  },
  {
   "cell_type": "code",
   "execution_count": 39,
   "metadata": {},
   "outputs": [
    {
     "name": "stdout",
     "output_type": "stream",
     "text": [
      "Accuracy score on test for DT: 0.6560509554140127\n",
      "Accuracy score on test for RFE: 0.6878980891719745\n",
      "Accuracy score on test for NN - Default: 0.6656050955414012\n",
      "Accuracy score on test for NN - GridSearchCV: 0.6656050955414012\n"
     ]
    }
   ],
   "source": [
    "# Task 4.4\n",
    "# Test accuracy\n",
    "y_pred_dt = ds_cv.predict(x_test_sel_model)\n",
    "y_pred_RFE = RFE_cv.predict(x_test_rfe)\n",
    "y_pred_nnD = NND_model.predict(x_test)\n",
    "y_pred_nnGS = NNGS_cv.predict(x_test)\n",
    "print(\"Accuracy score on test for DT:\", accuracy_score(y_test, y_pred_dt))\n",
    "print(\"Accuracy score on test for RFE:\", accuracy_score(y_test, y_pred_RFE))\n",
    "print(\"Accuracy score on test for NN - Default:\", accuracy_score(y_test, y_pred_nnD))\n",
    "print(\"Accuracy score on test for NN - GridSearchCV:\", accuracy_score(y_test, y_pred_nnGS))"
   ]
  },
  {
   "cell_type": "code",
   "execution_count": 40,
   "metadata": {},
   "outputs": [
    {
     "name": "stdout",
     "output_type": "stream",
     "text": [
      "ROC index on test for NN - DecisionTree: 0.6644745466462748\n",
      "ROC index on test for NN - RFE: 0.6882674240769062\n",
      "ROC index on test for NN - Default: 0.6949093292549706\n",
      "ROC index on test for NN - GridSearchCV:  0.6776054183963295\n"
     ]
    }
   ],
   "source": [
    "from sklearn.metrics import roc_auc_score\n",
    "y_pred_proba_nnDT = ds_cv.predict_proba(x_test_sel_model)\n",
    "y_pred_proba_nnRFE = RFE_cv.predict_proba(x_test_rfe)\n",
    "y_pred_proba_nnD = NND_model.predict_proba(x_test)\n",
    "y_pred_proba_nnGS = NNGS_cv.predict_proba(x_test)\n",
    "\n",
    "roc_index_nnDT = roc_auc_score(y_test, y_pred_proba_nnDT[:, 1])\n",
    "roc_index_nnRFE = roc_auc_score(y_test, y_pred_proba_nnRFE[:, 1])\n",
    "roc_index_nnD = roc_auc_score(y_test, y_pred_proba_nnD[:, 1])\n",
    "roc_index_nnGS = roc_auc_score(y_test, y_pred_proba_nnGS[:, 1])\n",
    "\n",
    "print(\"ROC index on test for NN - DecisionTree:\", roc_index_nnDT)\n",
    "print(\"ROC index on test for NN - RFE:\", roc_index_nnRFE)\n",
    "print(\"ROC index on test for NN - Default:\", roc_index_nnD)\n",
    "print(\"ROC index on test for NN - GridSearchCV: \", roc_index_nnGS)"
   ]
  },
  {
   "cell_type": "code",
   "execution_count": 41,
   "metadata": {},
   "outputs": [
    {
     "data": {
      "image/png": "[encoded data removed]",
      "text/plain": [
       "<Figure size 432x288 with 1 Axes>"
      ]
     },
     "metadata": {},
     "output_type": "display_data"
    }
   ],
   "source": [
    "# Get graph\n",
    "from sklearn.metrics import roc_curve\n",
    "fpr_nnDT, tpr_nnDT, thresholds_nnDT = roc_curve(y_test, y_pred_proba_nnDT[:,1])\n",
    "fpr_nnRFE, tpr_nnRFE, thresholds_nnRFE = roc_curve(y_test, y_pred_proba_nnRFE[:,1])\n",
    "fpr_nnD, tpr_nnD, thresholds_nnD = roc_curve(y_test, y_pred_proba_nnD[:,1])\n",
    "fpr_nnGS, tpr_nnGS, thresholds_nnGS = roc_curve(y_test, y_pred_proba_nnGS[:,1])\n",
    "\n",
    "import matplotlib.pyplot as plt\n",
    "plt.plot(fpr_nnDT, tpr_nnDT, label='ROC Curve for NN DT {:.3f}'.format(roc_index_nnDT), color='red', lw=0.5)\n",
    "plt.plot(fpr_nnRFE, tpr_nnRFE, label='ROC Curve for NN RFE {:.3f}'.format(roc_index_nnRFE), color='green', lw=0.5)\n",
    "plt.plot(fpr_nnD, tpr_nnD, label='ROC Curve for NN DEFAULT{:.3f}'.format(roc_index_nnD), color='darkorange', lw=0.5)\n",
    "plt.plot(fpr_nnGS, tpr_nnGS, label='ROC Curve for NN GridSearchCV{:.3f}'.format(roc_index_nnGS), color='blue', lw=0.5)\n",
    "# plt.plot(fpr[2], tpr[2], color='darkorange',\n",
    "# lw=lw, label='ROC curve (area = %0.2f)' % roc_auc[2])\n",
    "plt.plot([0, 1], [0, 1], color='navy', lw=0.5, linestyle='--')\n",
    "plt.xlim([0.0, 1.0])\n",
    "plt.ylim([0.0, 1.0])\n",
    "plt.xlabel('False Positive Rate')\n",
    "plt.ylabel('True Positive Rate')\n",
    "plt.title('Receiver operating characteristic')\n",
    "plt.legend(loc=\"lower right\")\n",
    "plt.show()"
   ]
  },
  {
   "cell_type": "code",
   "execution_count": 50,
   "metadata": {},
   "outputs": [
    {
     "name": "stdout",
     "output_type": "stream",
     "text": [
      "Accuracy score on test for Decision Tree: 0.643312101910828\n",
      "             precision    recall  f1-score   support\n",
      "\n",
      "          0       0.51      0.51      0.51       115\n",
      "          1       0.72      0.72      0.72       199\n",
      "\n",
      "avg / total       0.64      0.64      0.64       314\n",
      "\n",
      "higher : 0.3133028333660085\n",
      "school_DCHS : 0.131807588885754\n",
      "absences : 0.11448145286961198\n",
      "Fedu : 0.1088873310214518\n",
      "traveltime : 0.07112199333165148\n",
      "\n",
      "\n",
      "Accuracy score on test for Neural RFE: 0.6878980891719745\n",
      "             precision    recall  f1-score   support\n",
      "\n",
      "          0       0.61      0.42      0.49       115\n",
      "          1       0.71      0.84      0.77       199\n",
      "\n",
      "avg / total       0.68      0.69      0.67       314\n",
      "\n",
      "\n",
      "\n",
      "Accuracy score on test for Regression RFE: 0.7038216560509554\n",
      "             precision    recall  f1-score   support\n",
      "\n",
      "          0       0.65      0.41      0.50       115\n",
      "          1       0.72      0.87      0.79       199\n",
      "\n",
      "avg / total       0.69      0.70      0.68       314\n",
      "\n",
      "Pstatus : 0.25954544916308686\n",
      "age : 0.20186423266937298\n",
      "traveltime : 0.18888114692732919\n",
      "address : 0.1647436010725625\n",
      "Medu : -0.15674241032230216\n"
     ]
    }
   ],
   "source": [
    "# Task 5.1\n",
    "# Best model accuracy and classification\n",
    "y_pred_tree = tree_optimal.predict(x_test)\n",
    "print(\"Accuracy score on test for Decision Tree:\", accuracy_score(y_test, y_pred_tree))\n",
    "print(classification_report(y_test, y_pred_tree))\n",
    "analyse_feature_importance(tree_optimal, x.columns, 5)\n",
    "print(\"\\n\")\n",
    "print(\"Accuracy score on test for Neural RFE:\", accuracy_score(y_test, y_pred_RFE))\n",
    "print(classification_report(y_test, y_pred_RFE))\n",
    "#\n",
    "# Feature importance for NN\n",
    "#\n",
    "print(\"\\n\")\n",
    "print(\"Accuracy score on test for Regression RFE:\", accuracy_score(y_test, y_reg_rfe))\n",
    "print(classification_report(y_test, y_reg_rfe))\n",
    "# feature importance\n",
    "coef = reg_rfe.coef_[0]\n",
    "feature_names = x.columns\n",
    "# sort them out in descending order\n",
    "indices = np.argsort(np.absolute(coef))\n",
    "indices = np.flip(indices, axis=0)\n",
    "# dont limit so to see what variables are remaining\n",
    "indices = indices[:5]\n",
    "for i in indices:\n",
    "    print(feature_names[i], ':', coef[i])"
   ]
  },
  {
   "cell_type": "code",
   "execution_count": 51,
   "metadata": {},
   "outputs": [
    {
     "name": "stdout",
     "output_type": "stream",
     "text": [
      "ROC index on test for Decision Tree: 0.6640375792003496\n",
      "ROC index on test for Neural RFE: 0.6882674240769062\n",
      "ROC index on test for Regression RFE: 0.6874371859296482\n"
     ]
    }
   ],
   "source": [
    "# ROC Index\n",
    "y_pred_proba_tree = tree_optimal.predict_proba(x_test)\n",
    "roc_index_tree = roc_auc_score(y_test, y_pred_proba_tree[:, 1])\n",
    "\n",
    "print(\"ROC index on test for Decision Tree:\", roc_index_tree)\n",
    "print(\"ROC index on test for Neural RFE:\", roc_index_nnRFE)\n",
    "print(\"ROC index on test for Regression RFE:\", roc_index_reg_rfe)"
   ]
  },
  {
   "cell_type": "code",
   "execution_count": 52,
   "metadata": {},
   "outputs": [
    {
     "data": {
      "image/png": "[encoded data removed]",
      "text/plain": [
       "<Figure size 432x288 with 1 Axes>"
      ]
     },
     "metadata": {},
     "output_type": "display_data"
    }
   ],
   "source": [
    "# ROC Chart\n",
    "fpr_tree, tpr_tree, thresholds_tree = roc_curve(y_test, y_pred_proba_tree[:,1])\n",
    "\n",
    "import matplotlib.pyplot as plt\n",
    "plt.plot(fpr_tree, tpr_tree, label='ROC Curve for DTree {:.3f}'.format(roc_index_tree), color='red', lw=0.5)\n",
    "plt.plot(fpr_nnRFE, tpr_nnRFE, label='ROC Curve for NN RFE {:.3f}'.format(roc_index_nnRFE), color='green', lw=0.5)\n",
    "plt.plot(fpr_reg_rfe, tpr_reg_rfe, label='ROC Curve for Reg RFE{:.3f}'.format(roc_index_reg_rfe), color='darkorange', lw=0.5)\n",
    "# plt.plot(fpr[2], tpr[2], color='darkorange',\n",
    "# lw=lw, label='ROC curve (area = %0.2f)' % roc_auc[2])\n",
    "plt.plot([0, 1], [0, 1], color='navy', lw=0.5, linestyle='--')\n",
    "plt.xlim([0.0, 1.0])\n",
    "plt.ylim([0.0, 1.0])\n",
    "plt.xlabel('False Positive Rate')\n",
    "plt.ylabel('True Positive Rate')\n",
    "plt.title('Receiver operating characteristic')\n",
    "plt.legend(loc=\"lower right\")\n",
    "plt.show()"
   ]
  },
  {
   "cell_type": "code",
   "execution_count": null,
   "metadata": {},
   "outputs": [],
   "source": []
  }
 ],
 "metadata": {
  "kernelspec": {
   "display_name": "Python 3",
   "language": "python",
   "name": "python3"
  }
 },
 "nbformat": 4,
 "nbformat_minor": 2
}
