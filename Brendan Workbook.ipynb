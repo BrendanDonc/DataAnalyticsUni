{
 "cells": [
  {
   "cell_type": "code",
   "execution_count": 1,
   "metadata": {},
   "outputs": [],
   "source": [
    "import numpy as np\n",
    "import pandas as pd"
   ]
  },
  {
   "cell_type": "code",
   "execution_count": 2,
   "metadata": {},
   "outputs": [],
   "source": [
    "df = pd.read_csv('STUDENT.csv')"
   ]
  },
  {
   "cell_type": "code",
   "execution_count": 3,
   "metadata": {},
   "outputs": [
    {
     "name": "stdout",
     "output_type": "stream",
     "text": [
      "<class 'pandas.core.frame.DataFrame'>\n",
      "RangeIndex: 1044 entries, 0 to 1043\n",
      "Data columns (total 35 columns):\n",
      "id             1044 non-null int64\n",
      "InitialName    1044 non-null object\n",
      "school         992 non-null object\n",
      "sex            1044 non-null object\n",
      "age            971 non-null float64\n",
      "address        1044 non-null object\n",
      "famsize        1044 non-null object\n",
      "Pstatus        1044 non-null object\n",
      "Medu           1044 non-null int64\n",
      "Fedu           1044 non-null int64\n",
      "Mjob           1044 non-null object\n",
      "Fjob           1044 non-null object\n",
      "reason         428 non-null object\n",
      "guardian       1044 non-null object\n",
      "traveltime     1044 non-null int64\n",
      "studytime      1044 non-null int64\n",
      "failures       1044 non-null int64\n",
      "schoolsup      1044 non-null object\n",
      "famsup         1044 non-null object\n",
      "paid           1044 non-null object\n",
      "activities     1044 non-null object\n",
      "nursery        1044 non-null object\n",
      "higher         1044 non-null object\n",
      "internet       1044 non-null object\n",
      "romantic       1044 non-null object\n",
      "famrel         1044 non-null int64\n",
      "freetime       1044 non-null int64\n",
      "goout          1044 non-null int64\n",
      "Dalc           1044 non-null int64\n",
      "Walc           1044 non-null int64\n",
      "health         1044 non-null int64\n",
      "absences       1044 non-null int64\n",
      "G1             1013 non-null float64\n",
      "G2             1013 non-null float64\n",
      "G3             1044 non-null object\n",
      "dtypes: float64(3), int64(13), object(19)\n",
      "memory usage: 285.5+ KB\n",
      "None\n"
     ]
    }
   ],
   "source": [
    "print(df.info())"
   ]
  },
  {
   "cell_type": "code",
   "execution_count": 6,
   "metadata": {},
   "outputs": [
    {
     "data": {
      "text/plain": [
       "course        171\n",
       "reputation    112\n",
       "home          104\n",
       "other          41\n",
       "Name: reason, dtype: int64"
      ]
     },
     "execution_count": 6,
     "metadata": {},
     "output_type": "execute_result"
    }
   ],
   "source": [
    "df['reason'].value_counts()"
   ]
  },
  {
   "cell_type": "code",
   "execution_count": null,
   "metadata": {},
   "outputs": [],
   "source": []
  }
 ],
 "metadata": {
  "kernelspec": {
   "display_name": "Python 3",
   "language": "python",
   "name": "python3"
  },
  "language_info": {
   "codemirror_mode": {
    "name": "ipython",
    "version": 3
   },
   "file_extension": ".py",
   "mimetype": "text/x-python",
   "name": "python",
   "nbconvert_exporter": "python",
   "pygments_lexer": "ipython3",
   "version": "3.6.5"
  }
 },
 "nbformat": 4,
 "nbformat_minor": 2
}
